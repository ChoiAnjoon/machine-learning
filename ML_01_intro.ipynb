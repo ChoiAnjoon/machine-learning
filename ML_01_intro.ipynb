{
 "cells": [
  {
   "cell_type": "markdown",
   "metadata": {},
   "source": [
    "<font color='tomato'><font color=\"#CC3D3D\"><p>\n",
    "# Getting Started with scikit-learn"
   ]
  },
  {
   "cell_type": "markdown",
   "metadata": {},
   "source": [
    "#### 자주 사용하는 사이킷런 모듈\n",
    "- 데이터 정제(Data Cleasing) & 속성 공학(Feature Engineering)\n",
    "    - sklearn.preprocessing: 데이터 전처리(인코딩, 정규화 등)\n",
    "    - sklearn.feature_selection: 속성선택\n",
    "    - sklearn.feature_extraction: 속성추출(이미지나 텍스트에서 속성 추출)\n",
    "- 모형 성능 평가와 개선\n",
    "    - sklearn.model_selection: 데이터 분리, 검증 및 파라미터 튜닝(GridSearch 등)\n",
    "    - sklearn.metrics: 성능평가(Recall, Precision, AUC 등)\n",
    "- 지도학습(Supervised Learning) 알고리즘\n",
    "    - sklearn.ensemble: 앙상블 알고리즘(RF, AdaBoost 등)\n",
    "    - sklearn.linear_model: 선형모델(선형회귀, 로지스틱회귀 등) \n",
    "    - sklearn.svm: Support Vector Machines (SVM)\n",
    "    - sklearn.tree: 의사결정나무(Decision Trees)\n",
    "- 비지도학습(Unsupervised Learning) 알고리즘\n",
    "    - sklearn.cluster: 군집분석(K-means, DBSCAN 등)\n",
    "    - sklearn.decomposition: 차원축소(PCA, SVD 등)\n",
    "- 유틸리티와 데이터 세트 \n",
    "    - sklearn.pipeline: 워크플로우 효율화\n",
    "    - sklearn.datasets: 예제 데이터 세트(iris, digits 데이터 등) \n",
    "    \n",
    "#### 사이킷런 기반 머신러닝 프레임워크    \n",
    "- 사이킷런에서는 분류 알고리즘을 구현한 클래스를 **Classifier**로, 회귀 알고리즘을 구현한 클래스를 **Regressor**로 지칭\n",
    "    - Ex) DecisionTreeClassifier(분류문제에 사용하는 의사결정나무) vs. DecisionTreeRegressor(회귀문제에 사용하는 의사결정나무)\n",
    "- Classifier와 Regressor를 합쳐서 **Estimator** 클래스라고 함\n",
    "    - ML 학습을 위해 fit()을, 예측을 위해 predict()를 제공    "
   ]
  },
  {
   "cell_type": "markdown",
   "metadata": {},
   "source": [
    "## Classification"
   ]
  },
  {
   "cell_type": "markdown",
   "metadata": {},
   "source": [
    "#### 데이터 준비"
   ]
  },
  {
   "cell_type": "code",
   "execution_count": 1,
   "metadata": {},
   "outputs": [],
   "source": [
    "import pandas as pd "
   ]
  },
  {
   "cell_type": "code",
   "execution_count": 2,
   "metadata": {},
   "outputs": [
    {
     "data": {
      "text/html": [
       "<div>\n",
       "<style scoped>\n",
       "    .dataframe tbody tr th:only-of-type {\n",
       "        vertical-align: middle;\n",
       "    }\n",
       "\n",
       "    .dataframe tbody tr th {\n",
       "        vertical-align: top;\n",
       "    }\n",
       "\n",
       "    .dataframe thead th {\n",
       "        text-align: right;\n",
       "    }\n",
       "</style>\n",
       "<table border=\"1\" class=\"dataframe\">\n",
       "  <thead>\n",
       "    <tr style=\"text-align: right;\">\n",
       "      <th></th>\n",
       "      <th>PassengerId</th>\n",
       "      <th>Survived</th>\n",
       "      <th>Pclass</th>\n",
       "      <th>Name</th>\n",
       "      <th>Sex</th>\n",
       "      <th>Age</th>\n",
       "      <th>SibSp</th>\n",
       "      <th>Parch</th>\n",
       "      <th>Ticket</th>\n",
       "      <th>Fare</th>\n",
       "      <th>Cabin</th>\n",
       "      <th>Embarked</th>\n",
       "    </tr>\n",
       "  </thead>\n",
       "  <tbody>\n",
       "    <tr>\n",
       "      <th>0</th>\n",
       "      <td>1</td>\n",
       "      <td>0</td>\n",
       "      <td>3</td>\n",
       "      <td>Braund, Mr. Owen Harris</td>\n",
       "      <td>male</td>\n",
       "      <td>22.0</td>\n",
       "      <td>1</td>\n",
       "      <td>0</td>\n",
       "      <td>A/5 21171</td>\n",
       "      <td>7.2500</td>\n",
       "      <td>NaN</td>\n",
       "      <td>S</td>\n",
       "    </tr>\n",
       "    <tr>\n",
       "      <th>1</th>\n",
       "      <td>2</td>\n",
       "      <td>1</td>\n",
       "      <td>1</td>\n",
       "      <td>Cumings, Mrs. John Bradley (Florence Briggs Th...</td>\n",
       "      <td>female</td>\n",
       "      <td>38.0</td>\n",
       "      <td>1</td>\n",
       "      <td>0</td>\n",
       "      <td>PC 17599</td>\n",
       "      <td>71.2833</td>\n",
       "      <td>C85</td>\n",
       "      <td>C</td>\n",
       "    </tr>\n",
       "    <tr>\n",
       "      <th>2</th>\n",
       "      <td>3</td>\n",
       "      <td>1</td>\n",
       "      <td>3</td>\n",
       "      <td>Heikkinen, Miss. Laina</td>\n",
       "      <td>female</td>\n",
       "      <td>26.0</td>\n",
       "      <td>0</td>\n",
       "      <td>0</td>\n",
       "      <td>STON/O2. 3101282</td>\n",
       "      <td>7.9250</td>\n",
       "      <td>NaN</td>\n",
       "      <td>S</td>\n",
       "    </tr>\n",
       "    <tr>\n",
       "      <th>3</th>\n",
       "      <td>4</td>\n",
       "      <td>1</td>\n",
       "      <td>1</td>\n",
       "      <td>Futrelle, Mrs. Jacques Heath (Lily May Peel)</td>\n",
       "      <td>female</td>\n",
       "      <td>35.0</td>\n",
       "      <td>1</td>\n",
       "      <td>0</td>\n",
       "      <td>113803</td>\n",
       "      <td>53.1000</td>\n",
       "      <td>C123</td>\n",
       "      <td>S</td>\n",
       "    </tr>\n",
       "    <tr>\n",
       "      <th>4</th>\n",
       "      <td>5</td>\n",
       "      <td>0</td>\n",
       "      <td>3</td>\n",
       "      <td>Allen, Mr. William Henry</td>\n",
       "      <td>male</td>\n",
       "      <td>35.0</td>\n",
       "      <td>0</td>\n",
       "      <td>0</td>\n",
       "      <td>373450</td>\n",
       "      <td>8.0500</td>\n",
       "      <td>NaN</td>\n",
       "      <td>S</td>\n",
       "    </tr>\n",
       "    <tr>\n",
       "      <th>...</th>\n",
       "      <td>...</td>\n",
       "      <td>...</td>\n",
       "      <td>...</td>\n",
       "      <td>...</td>\n",
       "      <td>...</td>\n",
       "      <td>...</td>\n",
       "      <td>...</td>\n",
       "      <td>...</td>\n",
       "      <td>...</td>\n",
       "      <td>...</td>\n",
       "      <td>...</td>\n",
       "      <td>...</td>\n",
       "    </tr>\n",
       "    <tr>\n",
       "      <th>886</th>\n",
       "      <td>887</td>\n",
       "      <td>0</td>\n",
       "      <td>2</td>\n",
       "      <td>Montvila, Rev. Juozas</td>\n",
       "      <td>male</td>\n",
       "      <td>27.0</td>\n",
       "      <td>0</td>\n",
       "      <td>0</td>\n",
       "      <td>211536</td>\n",
       "      <td>13.0000</td>\n",
       "      <td>NaN</td>\n",
       "      <td>S</td>\n",
       "    </tr>\n",
       "    <tr>\n",
       "      <th>887</th>\n",
       "      <td>888</td>\n",
       "      <td>1</td>\n",
       "      <td>1</td>\n",
       "      <td>Graham, Miss. Margaret Edith</td>\n",
       "      <td>female</td>\n",
       "      <td>19.0</td>\n",
       "      <td>0</td>\n",
       "      <td>0</td>\n",
       "      <td>112053</td>\n",
       "      <td>30.0000</td>\n",
       "      <td>B42</td>\n",
       "      <td>S</td>\n",
       "    </tr>\n",
       "    <tr>\n",
       "      <th>888</th>\n",
       "      <td>889</td>\n",
       "      <td>0</td>\n",
       "      <td>3</td>\n",
       "      <td>Johnston, Miss. Catherine Helen \"Carrie\"</td>\n",
       "      <td>female</td>\n",
       "      <td>NaN</td>\n",
       "      <td>1</td>\n",
       "      <td>2</td>\n",
       "      <td>W./C. 6607</td>\n",
       "      <td>23.4500</td>\n",
       "      <td>NaN</td>\n",
       "      <td>S</td>\n",
       "    </tr>\n",
       "    <tr>\n",
       "      <th>889</th>\n",
       "      <td>890</td>\n",
       "      <td>1</td>\n",
       "      <td>1</td>\n",
       "      <td>Behr, Mr. Karl Howell</td>\n",
       "      <td>male</td>\n",
       "      <td>26.0</td>\n",
       "      <td>0</td>\n",
       "      <td>0</td>\n",
       "      <td>111369</td>\n",
       "      <td>30.0000</td>\n",
       "      <td>C148</td>\n",
       "      <td>C</td>\n",
       "    </tr>\n",
       "    <tr>\n",
       "      <th>890</th>\n",
       "      <td>891</td>\n",
       "      <td>0</td>\n",
       "      <td>3</td>\n",
       "      <td>Dooley, Mr. Patrick</td>\n",
       "      <td>male</td>\n",
       "      <td>32.0</td>\n",
       "      <td>0</td>\n",
       "      <td>0</td>\n",
       "      <td>370376</td>\n",
       "      <td>7.7500</td>\n",
       "      <td>NaN</td>\n",
       "      <td>Q</td>\n",
       "    </tr>\n",
       "  </tbody>\n",
       "</table>\n",
       "<p>891 rows × 12 columns</p>\n",
       "</div>"
      ],
      "text/plain": [
       "     PassengerId  Survived  Pclass  \\\n",
       "0              1         0       3   \n",
       "1              2         1       1   \n",
       "2              3         1       3   \n",
       "3              4         1       1   \n",
       "4              5         0       3   \n",
       "..           ...       ...     ...   \n",
       "886          887         0       2   \n",
       "887          888         1       1   \n",
       "888          889         0       3   \n",
       "889          890         1       1   \n",
       "890          891         0       3   \n",
       "\n",
       "                                                  Name     Sex   Age  SibSp  \\\n",
       "0                              Braund, Mr. Owen Harris    male  22.0      1   \n",
       "1    Cumings, Mrs. John Bradley (Florence Briggs Th...  female  38.0      1   \n",
       "2                               Heikkinen, Miss. Laina  female  26.0      0   \n",
       "3         Futrelle, Mrs. Jacques Heath (Lily May Peel)  female  35.0      1   \n",
       "4                             Allen, Mr. William Henry    male  35.0      0   \n",
       "..                                                 ...     ...   ...    ...   \n",
       "886                              Montvila, Rev. Juozas    male  27.0      0   \n",
       "887                       Graham, Miss. Margaret Edith  female  19.0      0   \n",
       "888           Johnston, Miss. Catherine Helen \"Carrie\"  female   NaN      1   \n",
       "889                              Behr, Mr. Karl Howell    male  26.0      0   \n",
       "890                                Dooley, Mr. Patrick    male  32.0      0   \n",
       "\n",
       "     Parch            Ticket     Fare Cabin Embarked  \n",
       "0        0         A/5 21171   7.2500   NaN        S  \n",
       "1        0          PC 17599  71.2833   C85        C  \n",
       "2        0  STON/O2. 3101282   7.9250   NaN        S  \n",
       "3        0            113803  53.1000  C123        S  \n",
       "4        0            373450   8.0500   NaN        S  \n",
       "..     ...               ...      ...   ...      ...  \n",
       "886      0            211536  13.0000   NaN        S  \n",
       "887      0            112053  30.0000   B42        S  \n",
       "888      2        W./C. 6607  23.4500   NaN        S  \n",
       "889      0            111369  30.0000  C148        C  \n",
       "890      0            370376   7.7500   NaN        Q  \n",
       "\n",
       "[891 rows x 12 columns]"
      ]
     },
     "execution_count": 2,
     "metadata": {},
     "output_type": "execute_result"
    }
   ],
   "source": [
    "train = pd.read_csv('train.csv')\n",
    "train"
   ]
  },
  {
   "cell_type": "markdown",
   "metadata": {},
   "source": [
    "타이타닉 호 침몰 당시의 승객 명단 데이터\n",
    "- Survived: 생존 여부 => 0 = No, 1 = Yes\n",
    "- pclass: 티켓 등급 => 1 = 1st, 2 = 2nd, 3 = 3rd\n",
    "- Sex: 성별\n",
    "- Age: 나이\n",
    "- Sibsp: 함께 탑승한 형제자매, 배우자의 수\n",
    "- Parch: 함께 탑승한 부모, 자식의 수\n",
    "- Ticket: 티켓 번호\n",
    "- Fare: 운임\n",
    "- Cabin: 객실 번호\n",
    "- Embarked: 탑승 항구 => C = Cherbourg, Q = Queenstown, S = Southampton"
   ]
  },
  {
   "cell_type": "markdown",
   "metadata": {},
   "source": [
    "*scikit-learn은 class(y)와 feature(X)로 데이터의 열이 구분되어야 한다.*"
   ]
  },
  {
   "cell_type": "code",
   "execution_count": 3,
   "metadata": {},
   "outputs": [
    {
     "data": {
      "text/html": [
       "<div>\n",
       "<style scoped>\n",
       "    .dataframe tbody tr th:only-of-type {\n",
       "        vertical-align: middle;\n",
       "    }\n",
       "\n",
       "    .dataframe tbody tr th {\n",
       "        vertical-align: top;\n",
       "    }\n",
       "\n",
       "    .dataframe thead th {\n",
       "        text-align: right;\n",
       "    }\n",
       "</style>\n",
       "<table border=\"1\" class=\"dataframe\">\n",
       "  <thead>\n",
       "    <tr style=\"text-align: right;\">\n",
       "      <th></th>\n",
       "      <th>Pclass</th>\n",
       "      <th>Sex</th>\n",
       "      <th>Age</th>\n",
       "      <th>SibSp</th>\n",
       "      <th>Parch</th>\n",
       "      <th>Fare</th>\n",
       "    </tr>\n",
       "  </thead>\n",
       "  <tbody>\n",
       "    <tr>\n",
       "      <th>0</th>\n",
       "      <td>3</td>\n",
       "      <td>male</td>\n",
       "      <td>22.0</td>\n",
       "      <td>1</td>\n",
       "      <td>0</td>\n",
       "      <td>7.2500</td>\n",
       "    </tr>\n",
       "    <tr>\n",
       "      <th>1</th>\n",
       "      <td>1</td>\n",
       "      <td>female</td>\n",
       "      <td>38.0</td>\n",
       "      <td>1</td>\n",
       "      <td>0</td>\n",
       "      <td>71.2833</td>\n",
       "    </tr>\n",
       "    <tr>\n",
       "      <th>2</th>\n",
       "      <td>3</td>\n",
       "      <td>female</td>\n",
       "      <td>26.0</td>\n",
       "      <td>0</td>\n",
       "      <td>0</td>\n",
       "      <td>7.9250</td>\n",
       "    </tr>\n",
       "    <tr>\n",
       "      <th>3</th>\n",
       "      <td>1</td>\n",
       "      <td>female</td>\n",
       "      <td>35.0</td>\n",
       "      <td>1</td>\n",
       "      <td>0</td>\n",
       "      <td>53.1000</td>\n",
       "    </tr>\n",
       "    <tr>\n",
       "      <th>4</th>\n",
       "      <td>3</td>\n",
       "      <td>male</td>\n",
       "      <td>35.0</td>\n",
       "      <td>0</td>\n",
       "      <td>0</td>\n",
       "      <td>8.0500</td>\n",
       "    </tr>\n",
       "    <tr>\n",
       "      <th>...</th>\n",
       "      <td>...</td>\n",
       "      <td>...</td>\n",
       "      <td>...</td>\n",
       "      <td>...</td>\n",
       "      <td>...</td>\n",
       "      <td>...</td>\n",
       "    </tr>\n",
       "    <tr>\n",
       "      <th>886</th>\n",
       "      <td>2</td>\n",
       "      <td>male</td>\n",
       "      <td>27.0</td>\n",
       "      <td>0</td>\n",
       "      <td>0</td>\n",
       "      <td>13.0000</td>\n",
       "    </tr>\n",
       "    <tr>\n",
       "      <th>887</th>\n",
       "      <td>1</td>\n",
       "      <td>female</td>\n",
       "      <td>19.0</td>\n",
       "      <td>0</td>\n",
       "      <td>0</td>\n",
       "      <td>30.0000</td>\n",
       "    </tr>\n",
       "    <tr>\n",
       "      <th>888</th>\n",
       "      <td>3</td>\n",
       "      <td>female</td>\n",
       "      <td>NaN</td>\n",
       "      <td>1</td>\n",
       "      <td>2</td>\n",
       "      <td>23.4500</td>\n",
       "    </tr>\n",
       "    <tr>\n",
       "      <th>889</th>\n",
       "      <td>1</td>\n",
       "      <td>male</td>\n",
       "      <td>26.0</td>\n",
       "      <td>0</td>\n",
       "      <td>0</td>\n",
       "      <td>30.0000</td>\n",
       "    </tr>\n",
       "    <tr>\n",
       "      <th>890</th>\n",
       "      <td>3</td>\n",
       "      <td>male</td>\n",
       "      <td>32.0</td>\n",
       "      <td>0</td>\n",
       "      <td>0</td>\n",
       "      <td>7.7500</td>\n",
       "    </tr>\n",
       "  </tbody>\n",
       "</table>\n",
       "<p>891 rows × 6 columns</p>\n",
       "</div>"
      ],
      "text/plain": [
       "     Pclass     Sex   Age  SibSp  Parch     Fare\n",
       "0         3    male  22.0      1      0   7.2500\n",
       "1         1  female  38.0      1      0  71.2833\n",
       "2         3  female  26.0      0      0   7.9250\n",
       "3         1  female  35.0      1      0  53.1000\n",
       "4         3    male  35.0      0      0   8.0500\n",
       "..      ...     ...   ...    ...    ...      ...\n",
       "886       2    male  27.0      0      0  13.0000\n",
       "887       1  female  19.0      0      0  30.0000\n",
       "888       3  female   NaN      1      2  23.4500\n",
       "889       1    male  26.0      0      0  30.0000\n",
       "890       3    male  32.0      0      0   7.7500\n",
       "\n",
       "[891 rows x 6 columns]"
      ]
     },
     "execution_count": 3,
     "metadata": {},
     "output_type": "execute_result"
    }
   ],
   "source": [
    "y = train.Survived\n",
    "X = train[['Pclass', 'Sex', 'Age', 'SibSp', 'Parch', 'Fare']]\n",
    "X"
   ]
  },
  {
   "cell_type": "markdown",
   "metadata": {},
   "source": [
    "*scikit-learn은 모든 feature가 숫자로만 구성되어야 한다.*"
   ]
  },
  {
   "cell_type": "code",
   "execution_count": 4,
   "metadata": {},
   "outputs": [
    {
     "name": "stderr",
     "output_type": "stream",
     "text": [
      "C:\\Users\\msi\\anaconda3\\lib\\site-packages\\pandas\\core\\generic.py:5159: SettingWithCopyWarning: \n",
      "A value is trying to be set on a copy of a slice from a DataFrame.\n",
      "Try using .loc[row_indexer,col_indexer] = value instead\n",
      "\n",
      "See the caveats in the documentation: https://pandas.pydata.org/pandas-docs/stable/user_guide/indexing.html#returning-a-view-versus-a-copy\n",
      "  self[name] = value\n"
     ]
    },
    {
     "data": {
      "text/html": [
       "<div>\n",
       "<style scoped>\n",
       "    .dataframe tbody tr th:only-of-type {\n",
       "        vertical-align: middle;\n",
       "    }\n",
       "\n",
       "    .dataframe tbody tr th {\n",
       "        vertical-align: top;\n",
       "    }\n",
       "\n",
       "    .dataframe thead th {\n",
       "        text-align: right;\n",
       "    }\n",
       "</style>\n",
       "<table border=\"1\" class=\"dataframe\">\n",
       "  <thead>\n",
       "    <tr style=\"text-align: right;\">\n",
       "      <th></th>\n",
       "      <th>Pclass</th>\n",
       "      <th>Sex</th>\n",
       "      <th>Age</th>\n",
       "      <th>SibSp</th>\n",
       "      <th>Parch</th>\n",
       "      <th>Fare</th>\n",
       "    </tr>\n",
       "  </thead>\n",
       "  <tbody>\n",
       "    <tr>\n",
       "      <th>0</th>\n",
       "      <td>3</td>\n",
       "      <td>1</td>\n",
       "      <td>22.0</td>\n",
       "      <td>1</td>\n",
       "      <td>0</td>\n",
       "      <td>7.2500</td>\n",
       "    </tr>\n",
       "    <tr>\n",
       "      <th>1</th>\n",
       "      <td>1</td>\n",
       "      <td>0</td>\n",
       "      <td>38.0</td>\n",
       "      <td>1</td>\n",
       "      <td>0</td>\n",
       "      <td>71.2833</td>\n",
       "    </tr>\n",
       "    <tr>\n",
       "      <th>2</th>\n",
       "      <td>3</td>\n",
       "      <td>0</td>\n",
       "      <td>26.0</td>\n",
       "      <td>0</td>\n",
       "      <td>0</td>\n",
       "      <td>7.9250</td>\n",
       "    </tr>\n",
       "    <tr>\n",
       "      <th>3</th>\n",
       "      <td>1</td>\n",
       "      <td>0</td>\n",
       "      <td>35.0</td>\n",
       "      <td>1</td>\n",
       "      <td>0</td>\n",
       "      <td>53.1000</td>\n",
       "    </tr>\n",
       "    <tr>\n",
       "      <th>4</th>\n",
       "      <td>3</td>\n",
       "      <td>1</td>\n",
       "      <td>35.0</td>\n",
       "      <td>0</td>\n",
       "      <td>0</td>\n",
       "      <td>8.0500</td>\n",
       "    </tr>\n",
       "    <tr>\n",
       "      <th>...</th>\n",
       "      <td>...</td>\n",
       "      <td>...</td>\n",
       "      <td>...</td>\n",
       "      <td>...</td>\n",
       "      <td>...</td>\n",
       "      <td>...</td>\n",
       "    </tr>\n",
       "    <tr>\n",
       "      <th>886</th>\n",
       "      <td>2</td>\n",
       "      <td>1</td>\n",
       "      <td>27.0</td>\n",
       "      <td>0</td>\n",
       "      <td>0</td>\n",
       "      <td>13.0000</td>\n",
       "    </tr>\n",
       "    <tr>\n",
       "      <th>887</th>\n",
       "      <td>1</td>\n",
       "      <td>0</td>\n",
       "      <td>19.0</td>\n",
       "      <td>0</td>\n",
       "      <td>0</td>\n",
       "      <td>30.0000</td>\n",
       "    </tr>\n",
       "    <tr>\n",
       "      <th>888</th>\n",
       "      <td>3</td>\n",
       "      <td>0</td>\n",
       "      <td>NaN</td>\n",
       "      <td>1</td>\n",
       "      <td>2</td>\n",
       "      <td>23.4500</td>\n",
       "    </tr>\n",
       "    <tr>\n",
       "      <th>889</th>\n",
       "      <td>1</td>\n",
       "      <td>1</td>\n",
       "      <td>26.0</td>\n",
       "      <td>0</td>\n",
       "      <td>0</td>\n",
       "      <td>30.0000</td>\n",
       "    </tr>\n",
       "    <tr>\n",
       "      <th>890</th>\n",
       "      <td>3</td>\n",
       "      <td>1</td>\n",
       "      <td>32.0</td>\n",
       "      <td>0</td>\n",
       "      <td>0</td>\n",
       "      <td>7.7500</td>\n",
       "    </tr>\n",
       "  </tbody>\n",
       "</table>\n",
       "<p>891 rows × 6 columns</p>\n",
       "</div>"
      ],
      "text/plain": [
       "     Pclass  Sex   Age  SibSp  Parch     Fare\n",
       "0         3    1  22.0      1      0   7.2500\n",
       "1         1    0  38.0      1      0  71.2833\n",
       "2         3    0  26.0      0      0   7.9250\n",
       "3         1    0  35.0      1      0  53.1000\n",
       "4         3    1  35.0      0      0   8.0500\n",
       "..      ...  ...   ...    ...    ...      ...\n",
       "886       2    1  27.0      0      0  13.0000\n",
       "887       1    0  19.0      0      0  30.0000\n",
       "888       3    0   NaN      1      2  23.4500\n",
       "889       1    1  26.0      0      0  30.0000\n",
       "890       3    1  32.0      0      0   7.7500\n",
       "\n",
       "[891 rows x 6 columns]"
      ]
     },
     "execution_count": 4,
     "metadata": {},
     "output_type": "execute_result"
    }
   ],
   "source": [
    "X.Sex = X.Sex.map({'male': 1, 'female': 0})\n",
    "X"
   ]
  },
  {
   "cell_type": "markdown",
   "metadata": {},
   "source": [
    "*scikit-learn은 결측값이 있는 feature를 사용할 수 없다.*"
   ]
  },
  {
   "cell_type": "code",
   "execution_count": 5,
   "metadata": {},
   "outputs": [
    {
     "name": "stdout",
     "output_type": "stream",
     "text": [
      "<class 'pandas.core.frame.DataFrame'>\n",
      "RangeIndex: 891 entries, 0 to 890\n",
      "Data columns (total 6 columns):\n",
      " #   Column  Non-Null Count  Dtype  \n",
      "---  ------  --------------  -----  \n",
      " 0   Pclass  891 non-null    int64  \n",
      " 1   Sex     891 non-null    int64  \n",
      " 2   Age     714 non-null    float64\n",
      " 3   SibSp   891 non-null    int64  \n",
      " 4   Parch   891 non-null    int64  \n",
      " 5   Fare    891 non-null    float64\n",
      "dtypes: float64(2), int64(4)\n",
      "memory usage: 41.9 KB\n"
     ]
    }
   ],
   "source": [
    "X.info()"
   ]
  },
  {
   "cell_type": "code",
   "execution_count": 6,
   "metadata": {},
   "outputs": [
    {
     "name": "stderr",
     "output_type": "stream",
     "text": [
      "C:\\Users\\msi\\anaconda3\\lib\\site-packages\\pandas\\core\\generic.py:5159: SettingWithCopyWarning: \n",
      "A value is trying to be set on a copy of a slice from a DataFrame.\n",
      "Try using .loc[row_indexer,col_indexer] = value instead\n",
      "\n",
      "See the caveats in the documentation: https://pandas.pydata.org/pandas-docs/stable/user_guide/indexing.html#returning-a-view-versus-a-copy\n",
      "  self[name] = value\n"
     ]
    },
    {
     "data": {
      "text/html": [
       "<div>\n",
       "<style scoped>\n",
       "    .dataframe tbody tr th:only-of-type {\n",
       "        vertical-align: middle;\n",
       "    }\n",
       "\n",
       "    .dataframe tbody tr th {\n",
       "        vertical-align: top;\n",
       "    }\n",
       "\n",
       "    .dataframe thead th {\n",
       "        text-align: right;\n",
       "    }\n",
       "</style>\n",
       "<table border=\"1\" class=\"dataframe\">\n",
       "  <thead>\n",
       "    <tr style=\"text-align: right;\">\n",
       "      <th></th>\n",
       "      <th>Pclass</th>\n",
       "      <th>Sex</th>\n",
       "      <th>Age</th>\n",
       "      <th>SibSp</th>\n",
       "      <th>Parch</th>\n",
       "      <th>Fare</th>\n",
       "    </tr>\n",
       "  </thead>\n",
       "  <tbody>\n",
       "    <tr>\n",
       "      <th>0</th>\n",
       "      <td>3</td>\n",
       "      <td>1</td>\n",
       "      <td>22.000000</td>\n",
       "      <td>1</td>\n",
       "      <td>0</td>\n",
       "      <td>7.2500</td>\n",
       "    </tr>\n",
       "    <tr>\n",
       "      <th>1</th>\n",
       "      <td>1</td>\n",
       "      <td>0</td>\n",
       "      <td>38.000000</td>\n",
       "      <td>1</td>\n",
       "      <td>0</td>\n",
       "      <td>71.2833</td>\n",
       "    </tr>\n",
       "    <tr>\n",
       "      <th>2</th>\n",
       "      <td>3</td>\n",
       "      <td>0</td>\n",
       "      <td>26.000000</td>\n",
       "      <td>0</td>\n",
       "      <td>0</td>\n",
       "      <td>7.9250</td>\n",
       "    </tr>\n",
       "    <tr>\n",
       "      <th>3</th>\n",
       "      <td>1</td>\n",
       "      <td>0</td>\n",
       "      <td>35.000000</td>\n",
       "      <td>1</td>\n",
       "      <td>0</td>\n",
       "      <td>53.1000</td>\n",
       "    </tr>\n",
       "    <tr>\n",
       "      <th>4</th>\n",
       "      <td>3</td>\n",
       "      <td>1</td>\n",
       "      <td>35.000000</td>\n",
       "      <td>0</td>\n",
       "      <td>0</td>\n",
       "      <td>8.0500</td>\n",
       "    </tr>\n",
       "    <tr>\n",
       "      <th>...</th>\n",
       "      <td>...</td>\n",
       "      <td>...</td>\n",
       "      <td>...</td>\n",
       "      <td>...</td>\n",
       "      <td>...</td>\n",
       "      <td>...</td>\n",
       "    </tr>\n",
       "    <tr>\n",
       "      <th>886</th>\n",
       "      <td>2</td>\n",
       "      <td>1</td>\n",
       "      <td>27.000000</td>\n",
       "      <td>0</td>\n",
       "      <td>0</td>\n",
       "      <td>13.0000</td>\n",
       "    </tr>\n",
       "    <tr>\n",
       "      <th>887</th>\n",
       "      <td>1</td>\n",
       "      <td>0</td>\n",
       "      <td>19.000000</td>\n",
       "      <td>0</td>\n",
       "      <td>0</td>\n",
       "      <td>30.0000</td>\n",
       "    </tr>\n",
       "    <tr>\n",
       "      <th>888</th>\n",
       "      <td>3</td>\n",
       "      <td>0</td>\n",
       "      <td>29.699118</td>\n",
       "      <td>1</td>\n",
       "      <td>2</td>\n",
       "      <td>23.4500</td>\n",
       "    </tr>\n",
       "    <tr>\n",
       "      <th>889</th>\n",
       "      <td>1</td>\n",
       "      <td>1</td>\n",
       "      <td>26.000000</td>\n",
       "      <td>0</td>\n",
       "      <td>0</td>\n",
       "      <td>30.0000</td>\n",
       "    </tr>\n",
       "    <tr>\n",
       "      <th>890</th>\n",
       "      <td>3</td>\n",
       "      <td>1</td>\n",
       "      <td>32.000000</td>\n",
       "      <td>0</td>\n",
       "      <td>0</td>\n",
       "      <td>7.7500</td>\n",
       "    </tr>\n",
       "  </tbody>\n",
       "</table>\n",
       "<p>891 rows × 6 columns</p>\n",
       "</div>"
      ],
      "text/plain": [
       "     Pclass  Sex        Age  SibSp  Parch     Fare\n",
       "0         3    1  22.000000      1      0   7.2500\n",
       "1         1    0  38.000000      1      0  71.2833\n",
       "2         3    0  26.000000      0      0   7.9250\n",
       "3         1    0  35.000000      1      0  53.1000\n",
       "4         3    1  35.000000      0      0   8.0500\n",
       "..      ...  ...        ...    ...    ...      ...\n",
       "886       2    1  27.000000      0      0  13.0000\n",
       "887       1    0  19.000000      0      0  30.0000\n",
       "888       3    0  29.699118      1      2  23.4500\n",
       "889       1    1  26.000000      0      0  30.0000\n",
       "890       3    1  32.000000      0      0   7.7500\n",
       "\n",
       "[891 rows x 6 columns]"
      ]
     },
     "execution_count": 6,
     "metadata": {},
     "output_type": "execute_result"
    }
   ],
   "source": [
    "X.Age = X.Age.fillna(X.Age.mean())\n",
    "X"
   ]
  },
  {
   "cell_type": "code",
   "execution_count": 7,
   "metadata": {},
   "outputs": [],
   "source": [
    "# 아래 군집분석을 위해 데이터 보관\n",
    "X_titanic = X.copy()"
   ]
  },
  {
   "cell_type": "markdown",
   "metadata": {},
   "source": [
    "#### 데이터 분할\n",
    "<img src=\"http://www.ds100.org/sp17/assets/notebooks/linear_regression/train_test_split.png\" width=600 height=400>"
   ]
  },
  {
   "cell_type": "code",
   "execution_count": 8,
   "metadata": {},
   "outputs": [],
   "source": [
    "from sklearn.model_selection import train_test_split"
   ]
  },
  {
   "cell_type": "code",
   "execution_count": 9,
   "metadata": {},
   "outputs": [],
   "source": [
    "X_train, X_test, y_train, y_test = train_test_split(X, y, test_size=0.3, random_state=0)"
   ]
  },
  {
   "cell_type": "code",
   "execution_count": 10,
   "metadata": {},
   "outputs": [
    {
     "data": {
      "text/html": [
       "<div>\n",
       "<style scoped>\n",
       "    .dataframe tbody tr th:only-of-type {\n",
       "        vertical-align: middle;\n",
       "    }\n",
       "\n",
       "    .dataframe tbody tr th {\n",
       "        vertical-align: top;\n",
       "    }\n",
       "\n",
       "    .dataframe thead th {\n",
       "        text-align: right;\n",
       "    }\n",
       "</style>\n",
       "<table border=\"1\" class=\"dataframe\">\n",
       "  <thead>\n",
       "    <tr style=\"text-align: right;\">\n",
       "      <th></th>\n",
       "      <th>Pclass</th>\n",
       "      <th>Sex</th>\n",
       "      <th>Age</th>\n",
       "      <th>SibSp</th>\n",
       "      <th>Parch</th>\n",
       "      <th>Fare</th>\n",
       "    </tr>\n",
       "  </thead>\n",
       "  <tbody>\n",
       "    <tr>\n",
       "      <th>857</th>\n",
       "      <td>1</td>\n",
       "      <td>1</td>\n",
       "      <td>51.000000</td>\n",
       "      <td>0</td>\n",
       "      <td>0</td>\n",
       "      <td>26.5500</td>\n",
       "    </tr>\n",
       "    <tr>\n",
       "      <th>52</th>\n",
       "      <td>1</td>\n",
       "      <td>0</td>\n",
       "      <td>49.000000</td>\n",
       "      <td>1</td>\n",
       "      <td>0</td>\n",
       "      <td>76.7292</td>\n",
       "    </tr>\n",
       "    <tr>\n",
       "      <th>386</th>\n",
       "      <td>3</td>\n",
       "      <td>1</td>\n",
       "      <td>1.000000</td>\n",
       "      <td>5</td>\n",
       "      <td>2</td>\n",
       "      <td>46.9000</td>\n",
       "    </tr>\n",
       "    <tr>\n",
       "      <th>124</th>\n",
       "      <td>1</td>\n",
       "      <td>1</td>\n",
       "      <td>54.000000</td>\n",
       "      <td>0</td>\n",
       "      <td>1</td>\n",
       "      <td>77.2875</td>\n",
       "    </tr>\n",
       "    <tr>\n",
       "      <th>578</th>\n",
       "      <td>3</td>\n",
       "      <td>0</td>\n",
       "      <td>29.699118</td>\n",
       "      <td>1</td>\n",
       "      <td>0</td>\n",
       "      <td>14.4583</td>\n",
       "    </tr>\n",
       "    <tr>\n",
       "      <th>...</th>\n",
       "      <td>...</td>\n",
       "      <td>...</td>\n",
       "      <td>...</td>\n",
       "      <td>...</td>\n",
       "      <td>...</td>\n",
       "      <td>...</td>\n",
       "    </tr>\n",
       "    <tr>\n",
       "      <th>835</th>\n",
       "      <td>1</td>\n",
       "      <td>0</td>\n",
       "      <td>39.000000</td>\n",
       "      <td>1</td>\n",
       "      <td>1</td>\n",
       "      <td>83.1583</td>\n",
       "    </tr>\n",
       "    <tr>\n",
       "      <th>192</th>\n",
       "      <td>3</td>\n",
       "      <td>0</td>\n",
       "      <td>19.000000</td>\n",
       "      <td>1</td>\n",
       "      <td>0</td>\n",
       "      <td>7.8542</td>\n",
       "    </tr>\n",
       "    <tr>\n",
       "      <th>629</th>\n",
       "      <td>3</td>\n",
       "      <td>1</td>\n",
       "      <td>29.699118</td>\n",
       "      <td>0</td>\n",
       "      <td>0</td>\n",
       "      <td>7.7333</td>\n",
       "    </tr>\n",
       "    <tr>\n",
       "      <th>559</th>\n",
       "      <td>3</td>\n",
       "      <td>0</td>\n",
       "      <td>36.000000</td>\n",
       "      <td>1</td>\n",
       "      <td>0</td>\n",
       "      <td>17.4000</td>\n",
       "    </tr>\n",
       "    <tr>\n",
       "      <th>684</th>\n",
       "      <td>2</td>\n",
       "      <td>1</td>\n",
       "      <td>60.000000</td>\n",
       "      <td>1</td>\n",
       "      <td>1</td>\n",
       "      <td>39.0000</td>\n",
       "    </tr>\n",
       "  </tbody>\n",
       "</table>\n",
       "<p>623 rows × 6 columns</p>\n",
       "</div>"
      ],
      "text/plain": [
       "     Pclass  Sex        Age  SibSp  Parch     Fare\n",
       "857       1    1  51.000000      0      0  26.5500\n",
       "52        1    0  49.000000      1      0  76.7292\n",
       "386       3    1   1.000000      5      2  46.9000\n",
       "124       1    1  54.000000      0      1  77.2875\n",
       "578       3    0  29.699118      1      0  14.4583\n",
       "..      ...  ...        ...    ...    ...      ...\n",
       "835       1    0  39.000000      1      1  83.1583\n",
       "192       3    0  19.000000      1      0   7.8542\n",
       "629       3    1  29.699118      0      0   7.7333\n",
       "559       3    0  36.000000      1      0  17.4000\n",
       "684       2    1  60.000000      1      1  39.0000\n",
       "\n",
       "[623 rows x 6 columns]"
      ]
     },
     "execution_count": 10,
     "metadata": {},
     "output_type": "execute_result"
    }
   ],
   "source": [
    "X_train"
   ]
  },
  {
   "cell_type": "markdown",
   "metadata": {},
   "source": [
    "#### 모형 생성 - 의사결정나무(Decision Tree)\n",
    "<img align=\"left\" src='http://drive.google.com/uc?export=view&id=1OZmnohHM8_932fiNnokTRdC6ZQumrPeL'/>"
   ]
  },
  {
   "cell_type": "code",
   "execution_count": 11,
   "metadata": {},
   "outputs": [],
   "source": [
    "from sklearn.tree import DecisionTreeClassifier"
   ]
  },
  {
   "cell_type": "code",
   "execution_count": 12,
   "metadata": {},
   "outputs": [],
   "source": [
    "model_dt = DecisionTreeClassifier(random_state=0, max_depth=3)"
   ]
  },
  {
   "cell_type": "code",
   "execution_count": 13,
   "metadata": {},
   "outputs": [
    {
     "data": {
      "text/plain": [
       "DecisionTreeClassifier(max_depth=3, random_state=0)"
      ]
     },
     "execution_count": 13,
     "metadata": {},
     "output_type": "execute_result"
    }
   ],
   "source": [
    "model_dt.fit(X_train, y_train)"
   ]
  },
  {
   "cell_type": "markdown",
   "metadata": {},
   "source": [
    "#### 모형 생성 - 로지스틱 회귀분석(Logistic Regression)\n",
    "<img src=\"https://www.saedsayad.com/images/LogReg_1.png\">"
   ]
  },
  {
   "cell_type": "code",
   "execution_count": 14,
   "metadata": {},
   "outputs": [
    {
     "data": {
      "text/plain": [
       "LogisticRegression(random_state=0)"
      ]
     },
     "execution_count": 14,
     "metadata": {},
     "output_type": "execute_result"
    }
   ],
   "source": [
    "from sklearn.linear_model import LogisticRegression\n",
    "\n",
    "model_lr = LogisticRegression(random_state=0)\n",
    "model_lr.fit(X_train, y_train)"
   ]
  },
  {
   "cell_type": "markdown",
   "metadata": {},
   "source": [
    "#### 모형 생성 - 인공신경망(Neural Network)\n",
    "<img src=\"https://www.astroml.org/_images/fig_neural_network_1.png\">"
   ]
  },
  {
   "cell_type": "code",
   "execution_count": 15,
   "metadata": {},
   "outputs": [
    {
     "data": {
      "text/plain": [
       "MLPClassifier(hidden_layer_sizes=(50,), random_state=0)"
      ]
     },
     "execution_count": 15,
     "metadata": {},
     "output_type": "execute_result"
    }
   ],
   "source": [
    "from sklearn.neural_network import MLPClassifier\n",
    "\n",
    "model_nn = MLPClassifier(random_state=0, hidden_layer_sizes=(50,))\n",
    "model_nn.fit(X_train, y_train)"
   ]
  },
  {
   "cell_type": "markdown",
   "metadata": {},
   "source": [
    "#### 모형 평가"
   ]
  },
  {
   "cell_type": "code",
   "execution_count": 16,
   "metadata": {},
   "outputs": [
    {
     "data": {
      "text/plain": [
       "0.8208955223880597"
      ]
     },
     "execution_count": 16,
     "metadata": {},
     "output_type": "execute_result"
    }
   ],
   "source": [
    "# Decision Tree\n",
    "model_dt.score(X_test, y_test)"
   ]
  },
  {
   "cell_type": "code",
   "execution_count": 17,
   "metadata": {},
   "outputs": [
    {
     "data": {
      "text/plain": [
       "0.8022388059701493"
      ]
     },
     "execution_count": 17,
     "metadata": {},
     "output_type": "execute_result"
    }
   ],
   "source": [
    "# Logistic Regression\n",
    "model_lr.score(X_test, y_test)"
   ]
  },
  {
   "cell_type": "code",
   "execution_count": 18,
   "metadata": {},
   "outputs": [
    {
     "data": {
      "text/plain": [
       "0.8022388059701493"
      ]
     },
     "execution_count": 18,
     "metadata": {},
     "output_type": "execute_result"
    }
   ],
   "source": [
    "# Neural Network\n",
    "model_nn.score(X_test, y_test)"
   ]
  },
  {
   "cell_type": "code",
   "execution_count": 19,
   "metadata": {},
   "outputs": [],
   "source": [
    "# Final Model\n",
    "model_best = model_dt"
   ]
  },
  {
   "cell_type": "markdown",
   "metadata": {},
   "source": [
    "#### 모형 적용"
   ]
  },
  {
   "cell_type": "code",
   "execution_count": 20,
   "metadata": {},
   "outputs": [
    {
     "data": {
      "text/html": [
       "<div>\n",
       "<style scoped>\n",
       "    .dataframe tbody tr th:only-of-type {\n",
       "        vertical-align: middle;\n",
       "    }\n",
       "\n",
       "    .dataframe tbody tr th {\n",
       "        vertical-align: top;\n",
       "    }\n",
       "\n",
       "    .dataframe thead th {\n",
       "        text-align: right;\n",
       "    }\n",
       "</style>\n",
       "<table border=\"1\" class=\"dataframe\">\n",
       "  <thead>\n",
       "    <tr style=\"text-align: right;\">\n",
       "      <th></th>\n",
       "      <th>PassengerId</th>\n",
       "      <th>Pclass</th>\n",
       "      <th>Name</th>\n",
       "      <th>Sex</th>\n",
       "      <th>Age</th>\n",
       "      <th>SibSp</th>\n",
       "      <th>Parch</th>\n",
       "      <th>Ticket</th>\n",
       "      <th>Fare</th>\n",
       "      <th>Cabin</th>\n",
       "      <th>Embarked</th>\n",
       "    </tr>\n",
       "  </thead>\n",
       "  <tbody>\n",
       "    <tr>\n",
       "      <th>0</th>\n",
       "      <td>892</td>\n",
       "      <td>3</td>\n",
       "      <td>Kelly, Mr. James</td>\n",
       "      <td>male</td>\n",
       "      <td>34.5</td>\n",
       "      <td>0</td>\n",
       "      <td>0</td>\n",
       "      <td>330911</td>\n",
       "      <td>7.8292</td>\n",
       "      <td>NaN</td>\n",
       "      <td>Q</td>\n",
       "    </tr>\n",
       "    <tr>\n",
       "      <th>1</th>\n",
       "      <td>893</td>\n",
       "      <td>3</td>\n",
       "      <td>Wilkes, Mrs. James (Ellen Needs)</td>\n",
       "      <td>female</td>\n",
       "      <td>47.0</td>\n",
       "      <td>1</td>\n",
       "      <td>0</td>\n",
       "      <td>363272</td>\n",
       "      <td>7.0000</td>\n",
       "      <td>NaN</td>\n",
       "      <td>S</td>\n",
       "    </tr>\n",
       "    <tr>\n",
       "      <th>2</th>\n",
       "      <td>894</td>\n",
       "      <td>2</td>\n",
       "      <td>Myles, Mr. Thomas Francis</td>\n",
       "      <td>male</td>\n",
       "      <td>62.0</td>\n",
       "      <td>0</td>\n",
       "      <td>0</td>\n",
       "      <td>240276</td>\n",
       "      <td>9.6875</td>\n",
       "      <td>NaN</td>\n",
       "      <td>Q</td>\n",
       "    </tr>\n",
       "    <tr>\n",
       "      <th>3</th>\n",
       "      <td>895</td>\n",
       "      <td>3</td>\n",
       "      <td>Wirz, Mr. Albert</td>\n",
       "      <td>male</td>\n",
       "      <td>27.0</td>\n",
       "      <td>0</td>\n",
       "      <td>0</td>\n",
       "      <td>315154</td>\n",
       "      <td>8.6625</td>\n",
       "      <td>NaN</td>\n",
       "      <td>S</td>\n",
       "    </tr>\n",
       "    <tr>\n",
       "      <th>4</th>\n",
       "      <td>896</td>\n",
       "      <td>3</td>\n",
       "      <td>Hirvonen, Mrs. Alexander (Helga E Lindqvist)</td>\n",
       "      <td>female</td>\n",
       "      <td>22.0</td>\n",
       "      <td>1</td>\n",
       "      <td>1</td>\n",
       "      <td>3101298</td>\n",
       "      <td>12.2875</td>\n",
       "      <td>NaN</td>\n",
       "      <td>S</td>\n",
       "    </tr>\n",
       "    <tr>\n",
       "      <th>...</th>\n",
       "      <td>...</td>\n",
       "      <td>...</td>\n",
       "      <td>...</td>\n",
       "      <td>...</td>\n",
       "      <td>...</td>\n",
       "      <td>...</td>\n",
       "      <td>...</td>\n",
       "      <td>...</td>\n",
       "      <td>...</td>\n",
       "      <td>...</td>\n",
       "      <td>...</td>\n",
       "    </tr>\n",
       "    <tr>\n",
       "      <th>413</th>\n",
       "      <td>1305</td>\n",
       "      <td>3</td>\n",
       "      <td>Spector, Mr. Woolf</td>\n",
       "      <td>male</td>\n",
       "      <td>NaN</td>\n",
       "      <td>0</td>\n",
       "      <td>0</td>\n",
       "      <td>A.5. 3236</td>\n",
       "      <td>8.0500</td>\n",
       "      <td>NaN</td>\n",
       "      <td>S</td>\n",
       "    </tr>\n",
       "    <tr>\n",
       "      <th>414</th>\n",
       "      <td>1306</td>\n",
       "      <td>1</td>\n",
       "      <td>Oliva y Ocana, Dona. Fermina</td>\n",
       "      <td>female</td>\n",
       "      <td>39.0</td>\n",
       "      <td>0</td>\n",
       "      <td>0</td>\n",
       "      <td>PC 17758</td>\n",
       "      <td>108.9000</td>\n",
       "      <td>C105</td>\n",
       "      <td>C</td>\n",
       "    </tr>\n",
       "    <tr>\n",
       "      <th>415</th>\n",
       "      <td>1307</td>\n",
       "      <td>3</td>\n",
       "      <td>Saether, Mr. Simon Sivertsen</td>\n",
       "      <td>male</td>\n",
       "      <td>38.5</td>\n",
       "      <td>0</td>\n",
       "      <td>0</td>\n",
       "      <td>SOTON/O.Q. 3101262</td>\n",
       "      <td>7.2500</td>\n",
       "      <td>NaN</td>\n",
       "      <td>S</td>\n",
       "    </tr>\n",
       "    <tr>\n",
       "      <th>416</th>\n",
       "      <td>1308</td>\n",
       "      <td>3</td>\n",
       "      <td>Ware, Mr. Frederick</td>\n",
       "      <td>male</td>\n",
       "      <td>NaN</td>\n",
       "      <td>0</td>\n",
       "      <td>0</td>\n",
       "      <td>359309</td>\n",
       "      <td>8.0500</td>\n",
       "      <td>NaN</td>\n",
       "      <td>S</td>\n",
       "    </tr>\n",
       "    <tr>\n",
       "      <th>417</th>\n",
       "      <td>1309</td>\n",
       "      <td>3</td>\n",
       "      <td>Peter, Master. Michael J</td>\n",
       "      <td>male</td>\n",
       "      <td>NaN</td>\n",
       "      <td>1</td>\n",
       "      <td>1</td>\n",
       "      <td>2668</td>\n",
       "      <td>22.3583</td>\n",
       "      <td>NaN</td>\n",
       "      <td>C</td>\n",
       "    </tr>\n",
       "  </tbody>\n",
       "</table>\n",
       "<p>418 rows × 11 columns</p>\n",
       "</div>"
      ],
      "text/plain": [
       "     PassengerId  Pclass                                          Name  \\\n",
       "0            892       3                              Kelly, Mr. James   \n",
       "1            893       3              Wilkes, Mrs. James (Ellen Needs)   \n",
       "2            894       2                     Myles, Mr. Thomas Francis   \n",
       "3            895       3                              Wirz, Mr. Albert   \n",
       "4            896       3  Hirvonen, Mrs. Alexander (Helga E Lindqvist)   \n",
       "..           ...     ...                                           ...   \n",
       "413         1305       3                            Spector, Mr. Woolf   \n",
       "414         1306       1                  Oliva y Ocana, Dona. Fermina   \n",
       "415         1307       3                  Saether, Mr. Simon Sivertsen   \n",
       "416         1308       3                           Ware, Mr. Frederick   \n",
       "417         1309       3                      Peter, Master. Michael J   \n",
       "\n",
       "        Sex   Age  SibSp  Parch              Ticket      Fare Cabin Embarked  \n",
       "0      male  34.5      0      0              330911    7.8292   NaN        Q  \n",
       "1    female  47.0      1      0              363272    7.0000   NaN        S  \n",
       "2      male  62.0      0      0              240276    9.6875   NaN        Q  \n",
       "3      male  27.0      0      0              315154    8.6625   NaN        S  \n",
       "4    female  22.0      1      1             3101298   12.2875   NaN        S  \n",
       "..      ...   ...    ...    ...                 ...       ...   ...      ...  \n",
       "413    male   NaN      0      0           A.5. 3236    8.0500   NaN        S  \n",
       "414  female  39.0      0      0            PC 17758  108.9000  C105        C  \n",
       "415    male  38.5      0      0  SOTON/O.Q. 3101262    7.2500   NaN        S  \n",
       "416    male   NaN      0      0              359309    8.0500   NaN        S  \n",
       "417    male   NaN      1      1                2668   22.3583   NaN        C  \n",
       "\n",
       "[418 rows x 11 columns]"
      ]
     },
     "execution_count": 20,
     "metadata": {},
     "output_type": "execute_result"
    }
   ],
   "source": [
    "test = pd.read_csv('test.csv')\n",
    "test"
   ]
  },
  {
   "cell_type": "markdown",
   "metadata": {},
   "source": [
    "*모형 생성에서 했던 전처리 작업을 동일하게 해야한다.*"
   ]
  },
  {
   "cell_type": "code",
   "execution_count": 21,
   "metadata": {},
   "outputs": [
    {
     "name": "stderr",
     "output_type": "stream",
     "text": [
      "C:\\Users\\msi\\anaconda3\\lib\\site-packages\\pandas\\core\\generic.py:5159: SettingWithCopyWarning: \n",
      "A value is trying to be set on a copy of a slice from a DataFrame.\n",
      "Try using .loc[row_indexer,col_indexer] = value instead\n",
      "\n",
      "See the caveats in the documentation: https://pandas.pydata.org/pandas-docs/stable/user_guide/indexing.html#returning-a-view-versus-a-copy\n",
      "  self[name] = value\n"
     ]
    },
    {
     "data": {
      "text/html": [
       "<div>\n",
       "<style scoped>\n",
       "    .dataframe tbody tr th:only-of-type {\n",
       "        vertical-align: middle;\n",
       "    }\n",
       "\n",
       "    .dataframe tbody tr th {\n",
       "        vertical-align: top;\n",
       "    }\n",
       "\n",
       "    .dataframe thead th {\n",
       "        text-align: right;\n",
       "    }\n",
       "</style>\n",
       "<table border=\"1\" class=\"dataframe\">\n",
       "  <thead>\n",
       "    <tr style=\"text-align: right;\">\n",
       "      <th></th>\n",
       "      <th>Pclass</th>\n",
       "      <th>Sex</th>\n",
       "      <th>Age</th>\n",
       "      <th>SibSp</th>\n",
       "      <th>Parch</th>\n",
       "      <th>Fare</th>\n",
       "    </tr>\n",
       "  </thead>\n",
       "  <tbody>\n",
       "    <tr>\n",
       "      <th>0</th>\n",
       "      <td>3</td>\n",
       "      <td>1</td>\n",
       "      <td>34.500000</td>\n",
       "      <td>0</td>\n",
       "      <td>0</td>\n",
       "      <td>7.8292</td>\n",
       "    </tr>\n",
       "    <tr>\n",
       "      <th>1</th>\n",
       "      <td>3</td>\n",
       "      <td>0</td>\n",
       "      <td>47.000000</td>\n",
       "      <td>1</td>\n",
       "      <td>0</td>\n",
       "      <td>7.0000</td>\n",
       "    </tr>\n",
       "    <tr>\n",
       "      <th>2</th>\n",
       "      <td>2</td>\n",
       "      <td>1</td>\n",
       "      <td>62.000000</td>\n",
       "      <td>0</td>\n",
       "      <td>0</td>\n",
       "      <td>9.6875</td>\n",
       "    </tr>\n",
       "    <tr>\n",
       "      <th>3</th>\n",
       "      <td>3</td>\n",
       "      <td>1</td>\n",
       "      <td>27.000000</td>\n",
       "      <td>0</td>\n",
       "      <td>0</td>\n",
       "      <td>8.6625</td>\n",
       "    </tr>\n",
       "    <tr>\n",
       "      <th>4</th>\n",
       "      <td>3</td>\n",
       "      <td>0</td>\n",
       "      <td>22.000000</td>\n",
       "      <td>1</td>\n",
       "      <td>1</td>\n",
       "      <td>12.2875</td>\n",
       "    </tr>\n",
       "    <tr>\n",
       "      <th>...</th>\n",
       "      <td>...</td>\n",
       "      <td>...</td>\n",
       "      <td>...</td>\n",
       "      <td>...</td>\n",
       "      <td>...</td>\n",
       "      <td>...</td>\n",
       "    </tr>\n",
       "    <tr>\n",
       "      <th>413</th>\n",
       "      <td>3</td>\n",
       "      <td>1</td>\n",
       "      <td>29.699118</td>\n",
       "      <td>0</td>\n",
       "      <td>0</td>\n",
       "      <td>8.0500</td>\n",
       "    </tr>\n",
       "    <tr>\n",
       "      <th>414</th>\n",
       "      <td>1</td>\n",
       "      <td>0</td>\n",
       "      <td>39.000000</td>\n",
       "      <td>0</td>\n",
       "      <td>0</td>\n",
       "      <td>108.9000</td>\n",
       "    </tr>\n",
       "    <tr>\n",
       "      <th>415</th>\n",
       "      <td>3</td>\n",
       "      <td>1</td>\n",
       "      <td>38.500000</td>\n",
       "      <td>0</td>\n",
       "      <td>0</td>\n",
       "      <td>7.2500</td>\n",
       "    </tr>\n",
       "    <tr>\n",
       "      <th>416</th>\n",
       "      <td>3</td>\n",
       "      <td>1</td>\n",
       "      <td>29.699118</td>\n",
       "      <td>0</td>\n",
       "      <td>0</td>\n",
       "      <td>8.0500</td>\n",
       "    </tr>\n",
       "    <tr>\n",
       "      <th>417</th>\n",
       "      <td>3</td>\n",
       "      <td>1</td>\n",
       "      <td>29.699118</td>\n",
       "      <td>1</td>\n",
       "      <td>1</td>\n",
       "      <td>22.3583</td>\n",
       "    </tr>\n",
       "  </tbody>\n",
       "</table>\n",
       "<p>418 rows × 6 columns</p>\n",
       "</div>"
      ],
      "text/plain": [
       "     Pclass  Sex        Age  SibSp  Parch      Fare\n",
       "0         3    1  34.500000      0      0    7.8292\n",
       "1         3    0  47.000000      1      0    7.0000\n",
       "2         2    1  62.000000      0      0    9.6875\n",
       "3         3    1  27.000000      0      0    8.6625\n",
       "4         3    0  22.000000      1      1   12.2875\n",
       "..      ...  ...        ...    ...    ...       ...\n",
       "413       3    1  29.699118      0      0    8.0500\n",
       "414       1    0  39.000000      0      0  108.9000\n",
       "415       3    1  38.500000      0      0    7.2500\n",
       "416       3    1  29.699118      0      0    8.0500\n",
       "417       3    1  29.699118      1      1   22.3583\n",
       "\n",
       "[418 rows x 6 columns]"
      ]
     },
     "execution_count": 21,
     "metadata": {},
     "output_type": "execute_result"
    }
   ],
   "source": [
    "test = test[['Pclass', 'Sex', 'Age', 'SibSp', 'Parch', 'Fare']]  # feature 선택\n",
    "test.Sex = test.Sex.map({'male': 1, 'female': 0})  # 문자열 => 숫자\n",
    "test.Age = test.Age.fillna(X.Age.mean()) # 결측값 처리\n",
    "test.Fare = test.Fare.fillna(X.Fare.mean()) # 결측값 처리\n",
    "test"
   ]
  },
  {
   "cell_type": "markdown",
   "metadata": {},
   "source": [
    "*예측 결과*"
   ]
  },
  {
   "cell_type": "code",
   "execution_count": 22,
   "metadata": {
    "scrolled": true
   },
   "outputs": [
    {
     "data": {
      "text/plain": [
       "array([0, 1, 0, 0, 1, 1, 1, 0, 1, 0, 0, 0, 1, 0, 1, 1, 0, 0, 1, 1, 0, 1,\n",
       "       1, 0, 1, 0, 1, 0, 0, 0, 0, 0, 1, 0, 0, 0, 1, 1, 0, 0, 0, 0, 0, 1,\n",
       "       1, 0, 0, 0, 1, 1, 0, 0, 1, 1, 0, 0, 0, 0, 0, 1, 0, 0, 0, 1, 1, 1,\n",
       "       1, 0, 0, 1, 1, 0, 1, 0, 1, 0, 0, 1, 0, 1, 1, 0, 0, 0, 0, 0, 1, 1,\n",
       "       1, 1, 1, 0, 1, 0, 0, 0, 1, 0, 1, 0, 1, 0, 0, 0, 1, 0, 0, 0, 0, 0,\n",
       "       0, 1, 1, 1, 1, 0, 0, 1, 0, 1, 1, 0, 1, 0, 0, 1, 0, 1, 0, 0, 0, 0,\n",
       "       0, 0, 0, 0, 0, 0, 1, 0, 0, 1, 0, 0, 0, 0, 0, 0, 0, 0, 1, 0, 0, 1,\n",
       "       0, 0, 1, 1, 0, 1, 1, 1, 1, 0, 0, 1, 0, 0, 1, 1, 0, 0, 0, 0, 0, 1,\n",
       "       1, 0, 1, 1, 0, 0, 1, 0, 1, 0, 1, 0, 0, 0, 0, 0, 1, 0, 1, 0, 1, 1,\n",
       "       0, 1, 1, 1, 0, 1, 0, 0, 1, 0, 1, 0, 0, 0, 0, 1, 1, 0, 1, 0, 1, 0,\n",
       "       1, 0, 1, 0, 1, 1, 0, 1, 0, 0, 1, 1, 0, 0, 0, 0, 0, 0, 1, 1, 1, 1,\n",
       "       0, 0, 0, 0, 1, 0, 1, 1, 0, 0, 0, 0, 0, 0, 0, 0, 1, 0, 0, 0, 1, 1,\n",
       "       0, 0, 0, 0, 1, 0, 0, 0, 1, 1, 0, 1, 0, 0, 0, 0, 1, 1, 1, 1, 1, 0,\n",
       "       0, 0, 0, 0, 0, 1, 0, 0, 0, 0, 0, 0, 0, 0, 0, 0, 0, 0, 1, 1, 0, 1,\n",
       "       0, 1, 0, 0, 0, 1, 1, 1, 0, 0, 0, 0, 0, 0, 0, 0, 1, 0, 1, 0, 0, 0,\n",
       "       1, 0, 0, 1, 0, 0, 0, 0, 0, 0, 0, 0, 0, 1, 0, 1, 0, 1, 0, 1, 1, 0,\n",
       "       0, 0, 1, 0, 1, 0, 0, 1, 0, 1, 1, 0, 1, 0, 0, 0, 1, 0, 0, 1, 0, 0,\n",
       "       1, 1, 1, 0, 0, 0, 0, 0, 1, 1, 0, 1, 0, 0, 0, 0, 0, 1, 1, 0, 0, 1,\n",
       "       0, 1, 0, 0, 1, 0, 1, 0, 0, 0, 0, 0, 1, 1, 1, 1, 1, 0, 1, 0, 0, 0],\n",
       "      dtype=int64)"
      ]
     },
     "execution_count": 22,
     "metadata": {},
     "output_type": "execute_result"
    }
   ],
   "source": [
    "model_best.predict(test)  # 예측값(0/1) 출력"
   ]
  },
  {
   "cell_type": "code",
   "execution_count": 23,
   "metadata": {},
   "outputs": [
    {
     "data": {
      "text/plain": [
       "array([[0.88095238, 0.11904762],\n",
       "       [0.375     , 0.625     ],\n",
       "       [0.88095238, 0.11904762],\n",
       "       [0.88095238, 0.11904762],\n",
       "       [0.375     , 0.625     ],\n",
       "       [0.05882353, 0.94117647],\n",
       "       [0.375     , 0.625     ],\n",
       "       [0.88095238, 0.11904762],\n",
       "       [0.375     , 0.625     ],\n",
       "       [0.88095238, 0.11904762],\n",
       "       [0.88095238, 0.11904762],\n",
       "       [0.65882353, 0.34117647],\n",
       "       [0.05785124, 0.94214876],\n",
       "       [0.88095238, 0.11904762],\n",
       "       [0.05785124, 0.94214876],\n",
       "       [0.05785124, 0.94214876],\n",
       "       [0.88095238, 0.11904762],\n",
       "       [0.88095238, 0.11904762],\n",
       "       [0.375     , 0.625     ],\n",
       "       [0.375     , 0.625     ],\n",
       "       [0.65882353, 0.34117647],\n",
       "       [0.05882353, 0.94117647],\n",
       "       [0.05785124, 0.94214876],\n",
       "       [0.65882353, 0.34117647],\n",
       "       [0.05785124, 0.94214876],\n",
       "       [0.88095238, 0.11904762],\n",
       "       [0.05785124, 0.94214876],\n",
       "       [0.88095238, 0.11904762],\n",
       "       [0.65882353, 0.34117647],\n",
       "       [0.88095238, 0.11904762],\n",
       "       [0.88095238, 0.11904762],\n",
       "       [0.88095238, 0.11904762],\n",
       "       [0.375     , 0.625     ],\n",
       "       [0.85714286, 0.14285714],\n",
       "       [0.65882353, 0.34117647],\n",
       "       [0.88095238, 0.11904762],\n",
       "       [0.375     , 0.625     ],\n",
       "       [0.375     , 0.625     ],\n",
       "       [0.88095238, 0.11904762],\n",
       "       [0.88095238, 0.11904762],\n",
       "       [0.88095238, 0.11904762],\n",
       "       [0.65882353, 0.34117647],\n",
       "       [0.88095238, 0.11904762],\n",
       "       [0.05785124, 0.94214876],\n",
       "       [0.05785124, 0.94214876],\n",
       "       [0.88095238, 0.11904762],\n",
       "       [0.65882353, 0.34117647],\n",
       "       [0.88095238, 0.11904762],\n",
       "       [0.05785124, 0.94214876],\n",
       "       [0.375     , 0.625     ],\n",
       "       [0.65882353, 0.34117647],\n",
       "       [0.88095238, 0.11904762],\n",
       "       [0.05785124, 0.94214876],\n",
       "       [0.05785124, 0.94214876],\n",
       "       [0.88095238, 0.11904762],\n",
       "       [1.        , 0.        ],\n",
       "       [0.88095238, 0.11904762],\n",
       "       [0.88095238, 0.11904762],\n",
       "       [0.88095238, 0.11904762],\n",
       "       [0.05785124, 0.94214876],\n",
       "       [0.88095238, 0.11904762],\n",
       "       [0.88095238, 0.11904762],\n",
       "       [0.88095238, 0.11904762],\n",
       "       [0.375     , 0.625     ],\n",
       "       [0.05882353, 0.94117647],\n",
       "       [0.05785124, 0.94214876],\n",
       "       [0.375     , 0.625     ],\n",
       "       [0.65882353, 0.34117647],\n",
       "       [0.65882353, 0.34117647],\n",
       "       [0.05785124, 0.94214876],\n",
       "       [0.375     , 0.625     ],\n",
       "       [0.88095238, 0.11904762],\n",
       "       [0.375     , 0.625     ],\n",
       "       [0.65882353, 0.34117647],\n",
       "       [0.05785124, 0.94214876],\n",
       "       [0.65882353, 0.34117647],\n",
       "       [0.88095238, 0.11904762],\n",
       "       [0.05785124, 0.94214876],\n",
       "       [0.88095238, 0.11904762],\n",
       "       [0.375     , 0.625     ],\n",
       "       [0.05882353, 0.94117647],\n",
       "       [0.65882353, 0.34117647],\n",
       "       [0.65882353, 0.34117647],\n",
       "       [0.88095238, 0.11904762],\n",
       "       [0.88095238, 0.11904762],\n",
       "       [0.88095238, 0.11904762],\n",
       "       [0.375     , 0.625     ],\n",
       "       [0.375     , 0.625     ],\n",
       "       [0.375     , 0.625     ],\n",
       "       [0.05882353, 0.94117647],\n",
       "       [0.375     , 0.625     ],\n",
       "       [0.88095238, 0.11904762],\n",
       "       [0.05785124, 0.94214876],\n",
       "       [0.88095238, 0.11904762],\n",
       "       [0.65882353, 0.34117647],\n",
       "       [0.88095238, 0.11904762],\n",
       "       [0.05785124, 0.94214876],\n",
       "       [0.88095238, 0.11904762],\n",
       "       [0.375     , 0.625     ],\n",
       "       [0.88095238, 0.11904762],\n",
       "       [0.05785124, 0.94214876],\n",
       "       [0.88095238, 0.11904762],\n",
       "       [0.88095238, 0.11904762],\n",
       "       [0.88095238, 0.11904762],\n",
       "       [0.375     , 0.625     ],\n",
       "       [0.88095238, 0.11904762],\n",
       "       [0.88095238, 0.11904762],\n",
       "       [0.88095238, 0.11904762],\n",
       "       [0.88095238, 0.11904762],\n",
       "       [0.88095238, 0.11904762],\n",
       "       [0.88095238, 0.11904762],\n",
       "       [0.375     , 0.625     ],\n",
       "       [0.05785124, 0.94214876],\n",
       "       [0.375     , 0.625     ],\n",
       "       [0.05785124, 0.94214876],\n",
       "       [0.88095238, 0.11904762],\n",
       "       [0.88095238, 0.11904762],\n",
       "       [0.375     , 0.625     ],\n",
       "       [0.65882353, 0.34117647],\n",
       "       [0.05785124, 0.94214876],\n",
       "       [0.05785124, 0.94214876],\n",
       "       [0.88095238, 0.11904762],\n",
       "       [0.05785124, 0.94214876],\n",
       "       [0.88095238, 0.11904762],\n",
       "       [0.88095238, 0.11904762],\n",
       "       [0.375     , 0.625     ],\n",
       "       [0.88095238, 0.11904762],\n",
       "       [0.375     , 0.625     ],\n",
       "       [0.88095238, 0.11904762],\n",
       "       [0.88095238, 0.11904762],\n",
       "       [0.88095238, 0.11904762],\n",
       "       [0.65882353, 0.34117647],\n",
       "       [0.85714286, 0.14285714],\n",
       "       [0.88095238, 0.11904762],\n",
       "       [0.88095238, 0.11904762],\n",
       "       [0.88095238, 0.11904762],\n",
       "       [0.88095238, 0.11904762],\n",
       "       [0.88095238, 0.11904762],\n",
       "       [0.375     , 0.625     ],\n",
       "       [0.88095238, 0.11904762],\n",
       "       [0.85714286, 0.14285714],\n",
       "       [0.05785124, 0.94214876],\n",
       "       [0.65882353, 0.34117647],\n",
       "       [0.88095238, 0.11904762],\n",
       "       [0.65882353, 0.34117647],\n",
       "       [0.88095238, 0.11904762],\n",
       "       [0.65882353, 0.34117647],\n",
       "       [0.88095238, 0.11904762],\n",
       "       [0.65882353, 0.34117647],\n",
       "       [0.88095238, 0.11904762],\n",
       "       [0.05785124, 0.94214876],\n",
       "       [0.88095238, 0.11904762],\n",
       "       [0.88095238, 0.11904762],\n",
       "       [0.375     , 0.625     ],\n",
       "       [1.        , 0.        ],\n",
       "       [0.88095238, 0.11904762],\n",
       "       [0.05785124, 0.94214876],\n",
       "       [0.375     , 0.625     ],\n",
       "       [0.65882353, 0.34117647],\n",
       "       [0.375     , 0.625     ],\n",
       "       [0.375     , 0.625     ],\n",
       "       [0.05882353, 0.94117647],\n",
       "       [0.05785124, 0.94214876],\n",
       "       [0.88095238, 0.11904762],\n",
       "       [0.88095238, 0.11904762],\n",
       "       [0.375     , 0.625     ],\n",
       "       [0.65882353, 0.34117647],\n",
       "       [0.88095238, 0.11904762],\n",
       "       [0.05785124, 0.94214876],\n",
       "       [0.375     , 0.625     ],\n",
       "       [0.88095238, 0.11904762],\n",
       "       [0.88095238, 0.11904762],\n",
       "       [0.88095238, 0.11904762],\n",
       "       [0.88095238, 0.11904762],\n",
       "       [0.88095238, 0.11904762],\n",
       "       [0.05785124, 0.94214876],\n",
       "       [0.05785124, 0.94214876],\n",
       "       [0.65882353, 0.34117647],\n",
       "       [0.05785124, 0.94214876],\n",
       "       [0.05785124, 0.94214876],\n",
       "       [0.88095238, 0.11904762],\n",
       "       [0.65882353, 0.34117647],\n",
       "       [0.05785124, 0.94214876],\n",
       "       [0.88095238, 0.11904762],\n",
       "       [0.05785124, 0.94214876],\n",
       "       [0.88095238, 0.11904762],\n",
       "       [0.05785124, 0.94214876],\n",
       "       [0.88095238, 0.11904762],\n",
       "       [0.85714286, 0.14285714],\n",
       "       [0.88095238, 0.11904762],\n",
       "       [0.88095238, 0.11904762],\n",
       "       [0.65882353, 0.34117647],\n",
       "       [0.05882353, 0.94117647],\n",
       "       [0.88095238, 0.11904762],\n",
       "       [0.05882353, 0.94117647],\n",
       "       [0.88095238, 0.11904762],\n",
       "       [0.05882353, 0.94117647],\n",
       "       [0.375     , 0.625     ],\n",
       "       [0.88095238, 0.11904762],\n",
       "       [0.375     , 0.625     ],\n",
       "       [0.375     , 0.625     ],\n",
       "       [0.05882353, 0.94117647],\n",
       "       [0.65882353, 0.34117647],\n",
       "       [0.05785124, 0.94214876],\n",
       "       [0.88095238, 0.11904762],\n",
       "       [0.65882353, 0.34117647],\n",
       "       [0.375     , 0.625     ],\n",
       "       [0.88095238, 0.11904762],\n",
       "       [0.05785124, 0.94214876],\n",
       "       [0.88095238, 0.11904762],\n",
       "       [0.88095238, 0.11904762],\n",
       "       [0.88095238, 0.11904762],\n",
       "       [0.88095238, 0.11904762],\n",
       "       [0.05785124, 0.94214876],\n",
       "       [0.375     , 0.625     ],\n",
       "       [0.65882353, 0.34117647],\n",
       "       [0.375     , 0.625     ],\n",
       "       [0.65882353, 0.34117647],\n",
       "       [0.05785124, 0.94214876],\n",
       "       [0.88095238, 0.11904762],\n",
       "       [0.05785124, 0.94214876],\n",
       "       [0.88095238, 0.11904762],\n",
       "       [0.05785124, 0.94214876],\n",
       "       [0.88095238, 0.11904762],\n",
       "       [0.05785124, 0.94214876],\n",
       "       [0.375     , 0.625     ],\n",
       "       [0.88095238, 0.11904762],\n",
       "       [0.375     , 0.625     ],\n",
       "       [0.88095238, 0.11904762],\n",
       "       [0.88095238, 0.11904762],\n",
       "       [0.05882353, 0.94117647],\n",
       "       [0.05785124, 0.94214876],\n",
       "       [0.88095238, 0.11904762],\n",
       "       [0.88095238, 0.11904762],\n",
       "       [0.65882353, 0.34117647],\n",
       "       [0.88095238, 0.11904762],\n",
       "       [0.65882353, 0.34117647],\n",
       "       [0.88095238, 0.11904762],\n",
       "       [0.05785124, 0.94214876],\n",
       "       [0.05785124, 0.94214876],\n",
       "       [0.05785124, 0.94214876],\n",
       "       [0.05785124, 0.94214876],\n",
       "       [0.65882353, 0.34117647],\n",
       "       [0.88095238, 0.11904762],\n",
       "       [0.88095238, 0.11904762],\n",
       "       [0.65882353, 0.34117647],\n",
       "       [0.05785124, 0.94214876],\n",
       "       [0.88095238, 0.11904762],\n",
       "       [0.05785124, 0.94214876],\n",
       "       [0.375     , 0.625     ],\n",
       "       [1.        , 0.        ],\n",
       "       [0.88095238, 0.11904762],\n",
       "       [0.65882353, 0.34117647],\n",
       "       [0.88095238, 0.11904762],\n",
       "       [0.88095238, 0.11904762],\n",
       "       [0.88095238, 0.11904762],\n",
       "       [0.88095238, 0.11904762],\n",
       "       [0.88095238, 0.11904762],\n",
       "       [0.05785124, 0.94214876],\n",
       "       [0.88095238, 0.11904762],\n",
       "       [0.88095238, 0.11904762],\n",
       "       [0.88095238, 0.11904762],\n",
       "       [0.05785124, 0.94214876],\n",
       "       [0.375     , 0.625     ],\n",
       "       [0.88095238, 0.11904762],\n",
       "       [0.88095238, 0.11904762],\n",
       "       [0.65882353, 0.34117647],\n",
       "       [0.88095238, 0.11904762],\n",
       "       [0.375     , 0.625     ],\n",
       "       [0.88095238, 0.11904762],\n",
       "       [0.65882353, 0.34117647],\n",
       "       [0.88095238, 0.11904762],\n",
       "       [0.05785124, 0.94214876],\n",
       "       [0.375     , 0.625     ],\n",
       "       [0.88095238, 0.11904762],\n",
       "       [0.05785124, 0.94214876],\n",
       "       [0.88095238, 0.11904762],\n",
       "       [0.88095238, 0.11904762],\n",
       "       [0.88095238, 0.11904762],\n",
       "       [0.88095238, 0.11904762],\n",
       "       [0.375     , 0.625     ],\n",
       "       [0.05882353, 0.94117647],\n",
       "       [0.375     , 0.625     ],\n",
       "       [0.375     , 0.625     ],\n",
       "       [0.375     , 0.625     ],\n",
       "       [0.88095238, 0.11904762],\n",
       "       [0.88095238, 0.11904762],\n",
       "       [0.65882353, 0.34117647],\n",
       "       [0.88095238, 0.11904762],\n",
       "       [0.88095238, 0.11904762],\n",
       "       [0.65882353, 0.34117647],\n",
       "       [0.375     , 0.625     ],\n",
       "       [0.88095238, 0.11904762],\n",
       "       [0.65882353, 0.34117647],\n",
       "       [0.88095238, 0.11904762],\n",
       "       [0.88095238, 0.11904762],\n",
       "       [1.        , 0.        ],\n",
       "       [0.88095238, 0.11904762],\n",
       "       [0.65882353, 0.34117647],\n",
       "       [0.88095238, 0.11904762],\n",
       "       [0.88095238, 0.11904762],\n",
       "       [0.88095238, 0.11904762],\n",
       "       [0.88095238, 0.11904762],\n",
       "       [0.88095238, 0.11904762],\n",
       "       [0.375     , 0.625     ],\n",
       "       [0.05785124, 0.94214876],\n",
       "       [0.65882353, 0.34117647],\n",
       "       [0.05882353, 0.94117647],\n",
       "       [0.65882353, 0.34117647],\n",
       "       [0.375     , 0.625     ],\n",
       "       [0.88095238, 0.11904762],\n",
       "       [0.88095238, 0.11904762],\n",
       "       [0.88095238, 0.11904762],\n",
       "       [0.375     , 0.625     ],\n",
       "       [0.05785124, 0.94214876],\n",
       "       [0.375     , 0.625     ],\n",
       "       [0.65882353, 0.34117647],\n",
       "       [0.88095238, 0.11904762],\n",
       "       [0.88095238, 0.11904762],\n",
       "       [0.88095238, 0.11904762],\n",
       "       [0.88095238, 0.11904762],\n",
       "       [0.88095238, 0.11904762],\n",
       "       [0.88095238, 0.11904762],\n",
       "       [0.65882353, 0.34117647],\n",
       "       [0.05785124, 0.94214876],\n",
       "       [0.88095238, 0.11904762],\n",
       "       [0.05785124, 0.94214876],\n",
       "       [0.65882353, 0.34117647],\n",
       "       [0.88095238, 0.11904762],\n",
       "       [0.88095238, 0.11904762],\n",
       "       [0.05785124, 0.94214876],\n",
       "       [0.65882353, 0.34117647],\n",
       "       [0.88095238, 0.11904762],\n",
       "       [0.375     , 0.625     ],\n",
       "       [0.88095238, 0.11904762],\n",
       "       [0.65882353, 0.34117647],\n",
       "       [0.88095238, 0.11904762],\n",
       "       [0.88095238, 0.11904762],\n",
       "       [0.88095238, 0.11904762],\n",
       "       [0.88095238, 0.11904762],\n",
       "       [0.88095238, 0.11904762],\n",
       "       [0.88095238, 0.11904762],\n",
       "       [0.88095238, 0.11904762],\n",
       "       [0.05785124, 0.94214876],\n",
       "       [0.88095238, 0.11904762],\n",
       "       [0.375     , 0.625     ],\n",
       "       [0.88095238, 0.11904762],\n",
       "       [0.375     , 0.625     ],\n",
       "       [0.88095238, 0.11904762],\n",
       "       [0.05785124, 0.94214876],\n",
       "       [0.05785124, 0.94214876],\n",
       "       [0.88095238, 0.11904762],\n",
       "       [0.88095238, 0.11904762],\n",
       "       [0.88095238, 0.11904762],\n",
       "       [0.375     , 0.625     ],\n",
       "       [0.65882353, 0.34117647],\n",
       "       [0.05785124, 0.94214876],\n",
       "       [0.88095238, 0.11904762],\n",
       "       [0.88095238, 0.11904762],\n",
       "       [0.375     , 0.625     ],\n",
       "       [0.88095238, 0.11904762],\n",
       "       [0.05785124, 0.94214876],\n",
       "       [0.05785124, 0.94214876],\n",
       "       [0.88095238, 0.11904762],\n",
       "       [0.05785124, 0.94214876],\n",
       "       [0.85714286, 0.14285714],\n",
       "       [0.88095238, 0.11904762],\n",
       "       [0.85714286, 0.14285714],\n",
       "       [0.05785124, 0.94214876],\n",
       "       [0.88095238, 0.11904762],\n",
       "       [0.88095238, 0.11904762],\n",
       "       [0.05785124, 0.94214876],\n",
       "       [0.65882353, 0.34117647],\n",
       "       [0.88095238, 0.11904762],\n",
       "       [0.05785124, 0.94214876],\n",
       "       [0.05785124, 0.94214876],\n",
       "       [0.375     , 0.625     ],\n",
       "       [0.88095238, 0.11904762],\n",
       "       [0.65882353, 0.34117647],\n",
       "       [1.        , 0.        ],\n",
       "       [0.88095238, 0.11904762],\n",
       "       [0.88095238, 0.11904762],\n",
       "       [0.375     , 0.625     ],\n",
       "       [0.375     , 0.625     ],\n",
       "       [0.88095238, 0.11904762],\n",
       "       [0.05785124, 0.94214876],\n",
       "       [0.88095238, 0.11904762],\n",
       "       [0.88095238, 0.11904762],\n",
       "       [0.88095238, 0.11904762],\n",
       "       [1.        , 0.        ],\n",
       "       [0.65882353, 0.34117647],\n",
       "       [0.05785124, 0.94214876],\n",
       "       [0.05882353, 0.94117647],\n",
       "       [0.88095238, 0.11904762],\n",
       "       [0.88095238, 0.11904762],\n",
       "       [0.05785124, 0.94214876],\n",
       "       [0.88095238, 0.11904762],\n",
       "       [0.05785124, 0.94214876],\n",
       "       [0.88095238, 0.11904762],\n",
       "       [0.88095238, 0.11904762],\n",
       "       [0.05785124, 0.94214876],\n",
       "       [0.88095238, 0.11904762],\n",
       "       [0.05785124, 0.94214876],\n",
       "       [0.65882353, 0.34117647],\n",
       "       [0.65882353, 0.34117647],\n",
       "       [0.88095238, 0.11904762],\n",
       "       [0.88095238, 0.11904762],\n",
       "       [0.65882353, 0.34117647],\n",
       "       [0.375     , 0.625     ],\n",
       "       [0.375     , 0.625     ],\n",
       "       [0.375     , 0.625     ],\n",
       "       [0.05785124, 0.94214876],\n",
       "       [0.375     , 0.625     ],\n",
       "       [0.88095238, 0.11904762],\n",
       "       [0.05785124, 0.94214876],\n",
       "       [0.88095238, 0.11904762],\n",
       "       [0.88095238, 0.11904762],\n",
       "       [0.88095238, 0.11904762]])"
      ]
     },
     "execution_count": 23,
     "metadata": {},
     "output_type": "execute_result"
    }
   ],
   "source": [
    "model_dt.predict_proba(test)  # 각 예측값이 발생할 가능성 출력"
   ]
  },
  {
   "cell_type": "code",
   "execution_count": 24,
   "metadata": {
    "scrolled": true
   },
   "outputs": [
    {
     "data": {
      "text/plain": [
       "array([0.11904762, 0.625     , 0.11904762, 0.11904762, 0.625     ,\n",
       "       0.94117647, 0.625     , 0.11904762, 0.625     , 0.11904762,\n",
       "       0.11904762, 0.34117647, 0.94214876, 0.11904762, 0.94214876,\n",
       "       0.94214876, 0.11904762, 0.11904762, 0.625     , 0.625     ,\n",
       "       0.34117647, 0.94117647, 0.94214876, 0.34117647, 0.94214876,\n",
       "       0.11904762, 0.94214876, 0.11904762, 0.34117647, 0.11904762,\n",
       "       0.11904762, 0.11904762, 0.625     , 0.14285714, 0.34117647,\n",
       "       0.11904762, 0.625     , 0.625     , 0.11904762, 0.11904762,\n",
       "       0.11904762, 0.34117647, 0.11904762, 0.94214876, 0.94214876,\n",
       "       0.11904762, 0.34117647, 0.11904762, 0.94214876, 0.625     ,\n",
       "       0.34117647, 0.11904762, 0.94214876, 0.94214876, 0.11904762,\n",
       "       0.        , 0.11904762, 0.11904762, 0.11904762, 0.94214876,\n",
       "       0.11904762, 0.11904762, 0.11904762, 0.625     , 0.94117647,\n",
       "       0.94214876, 0.625     , 0.34117647, 0.34117647, 0.94214876,\n",
       "       0.625     , 0.11904762, 0.625     , 0.34117647, 0.94214876,\n",
       "       0.34117647, 0.11904762, 0.94214876, 0.11904762, 0.625     ,\n",
       "       0.94117647, 0.34117647, 0.34117647, 0.11904762, 0.11904762,\n",
       "       0.11904762, 0.625     , 0.625     , 0.625     , 0.94117647,\n",
       "       0.625     , 0.11904762, 0.94214876, 0.11904762, 0.34117647,\n",
       "       0.11904762, 0.94214876, 0.11904762, 0.625     , 0.11904762,\n",
       "       0.94214876, 0.11904762, 0.11904762, 0.11904762, 0.625     ,\n",
       "       0.11904762, 0.11904762, 0.11904762, 0.11904762, 0.11904762,\n",
       "       0.11904762, 0.625     , 0.94214876, 0.625     , 0.94214876,\n",
       "       0.11904762, 0.11904762, 0.625     , 0.34117647, 0.94214876,\n",
       "       0.94214876, 0.11904762, 0.94214876, 0.11904762, 0.11904762,\n",
       "       0.625     , 0.11904762, 0.625     , 0.11904762, 0.11904762,\n",
       "       0.11904762, 0.34117647, 0.14285714, 0.11904762, 0.11904762,\n",
       "       0.11904762, 0.11904762, 0.11904762, 0.625     , 0.11904762,\n",
       "       0.14285714, 0.94214876, 0.34117647, 0.11904762, 0.34117647,\n",
       "       0.11904762, 0.34117647, 0.11904762, 0.34117647, 0.11904762,\n",
       "       0.94214876, 0.11904762, 0.11904762, 0.625     , 0.        ,\n",
       "       0.11904762, 0.94214876, 0.625     , 0.34117647, 0.625     ,\n",
       "       0.625     , 0.94117647, 0.94214876, 0.11904762, 0.11904762,\n",
       "       0.625     , 0.34117647, 0.11904762, 0.94214876, 0.625     ,\n",
       "       0.11904762, 0.11904762, 0.11904762, 0.11904762, 0.11904762,\n",
       "       0.94214876, 0.94214876, 0.34117647, 0.94214876, 0.94214876,\n",
       "       0.11904762, 0.34117647, 0.94214876, 0.11904762, 0.94214876,\n",
       "       0.11904762, 0.94214876, 0.11904762, 0.14285714, 0.11904762,\n",
       "       0.11904762, 0.34117647, 0.94117647, 0.11904762, 0.94117647,\n",
       "       0.11904762, 0.94117647, 0.625     , 0.11904762, 0.625     ,\n",
       "       0.625     , 0.94117647, 0.34117647, 0.94214876, 0.11904762,\n",
       "       0.34117647, 0.625     , 0.11904762, 0.94214876, 0.11904762,\n",
       "       0.11904762, 0.11904762, 0.11904762, 0.94214876, 0.625     ,\n",
       "       0.34117647, 0.625     , 0.34117647, 0.94214876, 0.11904762,\n",
       "       0.94214876, 0.11904762, 0.94214876, 0.11904762, 0.94214876,\n",
       "       0.625     , 0.11904762, 0.625     , 0.11904762, 0.11904762,\n",
       "       0.94117647, 0.94214876, 0.11904762, 0.11904762, 0.34117647,\n",
       "       0.11904762, 0.34117647, 0.11904762, 0.94214876, 0.94214876,\n",
       "       0.94214876, 0.94214876, 0.34117647, 0.11904762, 0.11904762,\n",
       "       0.34117647, 0.94214876, 0.11904762, 0.94214876, 0.625     ,\n",
       "       0.        , 0.11904762, 0.34117647, 0.11904762, 0.11904762,\n",
       "       0.11904762, 0.11904762, 0.11904762, 0.94214876, 0.11904762,\n",
       "       0.11904762, 0.11904762, 0.94214876, 0.625     , 0.11904762,\n",
       "       0.11904762, 0.34117647, 0.11904762, 0.625     , 0.11904762,\n",
       "       0.34117647, 0.11904762, 0.94214876, 0.625     , 0.11904762,\n",
       "       0.94214876, 0.11904762, 0.11904762, 0.11904762, 0.11904762,\n",
       "       0.625     , 0.94117647, 0.625     , 0.625     , 0.625     ,\n",
       "       0.11904762, 0.11904762, 0.34117647, 0.11904762, 0.11904762,\n",
       "       0.34117647, 0.625     , 0.11904762, 0.34117647, 0.11904762,\n",
       "       0.11904762, 0.        , 0.11904762, 0.34117647, 0.11904762,\n",
       "       0.11904762, 0.11904762, 0.11904762, 0.11904762, 0.625     ,\n",
       "       0.94214876, 0.34117647, 0.94117647, 0.34117647, 0.625     ,\n",
       "       0.11904762, 0.11904762, 0.11904762, 0.625     , 0.94214876,\n",
       "       0.625     , 0.34117647, 0.11904762, 0.11904762, 0.11904762,\n",
       "       0.11904762, 0.11904762, 0.11904762, 0.34117647, 0.94214876,\n",
       "       0.11904762, 0.94214876, 0.34117647, 0.11904762, 0.11904762,\n",
       "       0.94214876, 0.34117647, 0.11904762, 0.625     , 0.11904762,\n",
       "       0.34117647, 0.11904762, 0.11904762, 0.11904762, 0.11904762,\n",
       "       0.11904762, 0.11904762, 0.11904762, 0.94214876, 0.11904762,\n",
       "       0.625     , 0.11904762, 0.625     , 0.11904762, 0.94214876,\n",
       "       0.94214876, 0.11904762, 0.11904762, 0.11904762, 0.625     ,\n",
       "       0.34117647, 0.94214876, 0.11904762, 0.11904762, 0.625     ,\n",
       "       0.11904762, 0.94214876, 0.94214876, 0.11904762, 0.94214876,\n",
       "       0.14285714, 0.11904762, 0.14285714, 0.94214876, 0.11904762,\n",
       "       0.11904762, 0.94214876, 0.34117647, 0.11904762, 0.94214876,\n",
       "       0.94214876, 0.625     , 0.11904762, 0.34117647, 0.        ,\n",
       "       0.11904762, 0.11904762, 0.625     , 0.625     , 0.11904762,\n",
       "       0.94214876, 0.11904762, 0.11904762, 0.11904762, 0.        ,\n",
       "       0.34117647, 0.94214876, 0.94117647, 0.11904762, 0.11904762,\n",
       "       0.94214876, 0.11904762, 0.94214876, 0.11904762, 0.11904762,\n",
       "       0.94214876, 0.11904762, 0.94214876, 0.34117647, 0.34117647,\n",
       "       0.11904762, 0.11904762, 0.34117647, 0.625     , 0.625     ,\n",
       "       0.625     , 0.94214876, 0.625     , 0.11904762, 0.94214876,\n",
       "       0.11904762, 0.11904762, 0.11904762])"
      ]
     },
     "execution_count": 24,
     "metadata": {},
     "output_type": "execute_result"
    }
   ],
   "source": [
    "model_dt.predict_proba(test)[:,1] # 사는 것만 빼낸것 "
   ]
  },
  {
   "cell_type": "markdown",
   "metadata": {},
   "source": [
    "#### 모형 개선 - 앙상블"
   ]
  },
  {
   "cell_type": "code",
   "execution_count": 25,
   "metadata": {},
   "outputs": [
    {
     "data": {
      "text/plain": [
       "0.8171641791044776"
      ]
     },
     "execution_count": 25,
     "metadata": {},
     "output_type": "execute_result"
    }
   ],
   "source": [
    "from sklearn.ensemble import VotingClassifier\n",
    "\n",
    "ensemble = VotingClassifier(estimators=[('dt', model_dt), ('lr', model_lr), ('nn', model_nn)], voting='soft')\n",
    "ensemble.fit(X_train, y_train).score(X_test, y_test)"
   ]
  },
  {
   "cell_type": "markdown",
   "metadata": {},
   "source": [
    "## Regression"
   ]
  },
  {
   "cell_type": "markdown",
   "metadata": {},
   "source": [
    "#### 데이터 준비"
   ]
  },
  {
   "cell_type": "code",
   "execution_count": 26,
   "metadata": {},
   "outputs": [],
   "source": [
    "from sklearn import datasets"
   ]
  },
  {
   "cell_type": "code",
   "execution_count": 27,
   "metadata": {},
   "outputs": [],
   "source": [
    "boston = datasets.load_boston()"
   ]
  },
  {
   "cell_type": "code",
   "execution_count": 28,
   "metadata": {},
   "outputs": [],
   "source": [
    "X =  boston.data\n",
    "y = boston.target"
   ]
  },
  {
   "cell_type": "code",
   "execution_count": 29,
   "metadata": {},
   "outputs": [
    {
     "name": "stdout",
     "output_type": "stream",
     "text": [
      "(506, 13)\n",
      "['CRIM' 'ZN' 'INDUS' 'CHAS' 'NOX' 'RM' 'AGE' 'DIS' 'RAD' 'TAX' 'PTRATIO'\n",
      " 'B' 'LSTAT']\n"
     ]
    }
   ],
   "source": [
    "print(X.shape)\n",
    "print(boston.feature_names)"
   ]
  },
  {
   "cell_type": "markdown",
   "metadata": {},
   "source": [
    "보스턴 주택 가격 데이터: 506개 타운의 주택 가격 중앙값 (단위 1,000 달러)\n",
    " - CRIM: 범죄율\n",
    " - ZN: 25,000 평방피트를 초과 거주지역 비율\n",
    " - INDUS: 비소매상업지역 면적 비율\n",
    " - CHAS: 찰스강의 경계에 위치한 경우는 1, 아니면 0\n",
    " - NOX: 일산화질소 농도\n",
    " - RM: 주택당 방 수\n",
    " - AGE: 1940년 이전에 건축된 주택의 비율\n",
    " - DIS: 직업센터의 거리\n",
    " - RAD: 방사형 고속도로까지의 거리\n",
    " - TAX: 재산세율\n",
    " - PTRATIO: 학생/교사 비율\n",
    " - B: 인구 중 흑인 비율\n",
    " - LSTAT: 인구 중 하위 계층 비율"
   ]
  },
  {
   "cell_type": "markdown",
   "metadata": {},
   "source": [
    "#### 데이터 분할"
   ]
  },
  {
   "cell_type": "code",
   "execution_count": 30,
   "metadata": {},
   "outputs": [],
   "source": [
    "X_train, X_test, y_train, y_test = train_test_split(X, y, test_size=0.3, random_state=0)"
   ]
  },
  {
   "cell_type": "markdown",
   "metadata": {},
   "source": [
    "#### 모형 생성 - 선형회귀분석"
   ]
  },
  {
   "cell_type": "code",
   "execution_count": 31,
   "metadata": {},
   "outputs": [],
   "source": [
    "from sklearn.linear_model import LinearRegression"
   ]
  },
  {
   "cell_type": "code",
   "execution_count": 32,
   "metadata": {},
   "outputs": [],
   "source": [
    "model = LinearRegression()"
   ]
  },
  {
   "cell_type": "code",
   "execution_count": 33,
   "metadata": {},
   "outputs": [
    {
     "data": {
      "text/plain": [
       "LinearRegression()"
      ]
     },
     "execution_count": 33,
     "metadata": {},
     "output_type": "execute_result"
    }
   ],
   "source": [
    "model.fit(X_train, y_train)"
   ]
  },
  {
   "cell_type": "markdown",
   "metadata": {},
   "source": [
    "#### 모형 검토"
   ]
  },
  {
   "cell_type": "code",
   "execution_count": 34,
   "metadata": {},
   "outputs": [
    {
     "name": "stdout",
     "output_type": "stream",
     "text": [
      "[-1.21310401e-01  4.44664254e-02  1.13416945e-02  2.51124642e+00\n",
      " -1.62312529e+01  3.85906801e+00 -9.98516565e-03 -1.50026956e+00\n",
      "  2.42143466e-01 -1.10716124e-02 -1.01775264e+00  6.81446545e-03\n",
      " -4.86738066e-01]\n",
      "37.93710774183255\n"
     ]
    }
   ],
   "source": [
    "print(model.coef_)\n",
    "print(model.intercept_)"
   ]
  },
  {
   "cell_type": "markdown",
   "metadata": {},
   "source": [
    "#### 모형 평가"
   ]
  },
  {
   "cell_type": "code",
   "execution_count": 35,
   "metadata": {},
   "outputs": [
    {
     "data": {
      "text/plain": [
       "0.6733825506400193"
      ]
     },
     "execution_count": 35,
     "metadata": {},
     "output_type": "execute_result"
    }
   ],
   "source": [
    "model.score(X_test, y_test) # R-square(r2_score)"
   ]
  },
  {
   "cell_type": "markdown",
   "metadata": {},
   "source": [
    "#### 분석결과 시각화"
   ]
  },
  {
   "cell_type": "code",
   "execution_count": 36,
   "metadata": {},
   "outputs": [
    {
     "data": {
      "text/plain": [
       "array([24.9357079 , 23.75163164, 29.32638296, 11.97534566, 21.37272478,\n",
       "       19.19148525, 20.5717479 , 21.21154015, 19.04572003, 20.35463238,\n",
       "        5.44119126, 16.93688709, 17.15482272,  5.3928209 , 40.20270696,\n",
       "       32.31327348, 22.46213268, 36.50124666, 31.03737014, 23.17124551,\n",
       "       24.74815321, 24.49939403, 20.6595791 , 30.4547583 , 22.32487164,\n",
       "       10.18932894, 17.44286422, 18.26103077, 35.63299326, 20.81960303,\n",
       "       18.27218007, 17.72047628, 19.33772473, 23.62254823, 28.97766856,\n",
       "       19.45036239, 11.13170639, 24.81843595, 18.05294835, 15.59712226,\n",
       "       26.21043403, 20.81140432, 22.17349382, 15.48367365, 22.62261604,\n",
       "       24.88561528, 19.74754478, 23.0465628 ,  9.84579105, 24.36378793,\n",
       "       21.47849008, 17.62118176, 24.39160873, 29.95102691, 13.57219422,\n",
       "       21.53645439, 20.53306273, 15.03433182, 14.3232289 , 22.11929299,\n",
       "       17.07321915, 21.54141094, 32.96766968, 31.371599  , 17.7860591 ,\n",
       "       32.75069556, 18.74795323, 19.21428022, 19.41970047, 23.08087809,\n",
       "       22.87732816, 24.06399098, 30.52824406, 28.71453508, 25.90763165,\n",
       "        5.17596718, 36.8709072 , 23.76983849, 27.26064379, 19.25849042,\n",
       "       28.41860517, 19.3008798 , 18.94922353, 38.00154059, 39.44096748,\n",
       "       23.72297885, 24.83722534, 16.52015743, 25.9970546 , 16.73997072,\n",
       "       15.48656983, 13.52825536, 24.12884363, 30.76919578, 22.18731163,\n",
       "       19.8848644 ,  0.42275479, 24.86785849, 16.05692   , 17.42486412,\n",
       "       25.49798527, 22.35171315, 32.66562689, 22.04428746, 27.29799885,\n",
       "       23.20302026,  6.86196574, 14.869251  , 22.31804948, 29.18125768,\n",
       "       33.22568234, 13.24392523, 19.67195771, 20.7502616 , 12.02271319,\n",
       "       23.50067006,  5.55662571, 19.87634689,  9.27059783, 44.81787339,\n",
       "       30.56017983, 12.44394048, 17.33192202, 21.48313292, 23.52664913,\n",
       "       20.49877266, 35.09161099, 13.22639935, 20.70321163, 35.35582833,\n",
       "       19.45050576, 13.81603561, 14.15654562, 23.03678503, 15.07521258,\n",
       "       30.9662041 , 25.23236632, 15.43763716, 24.06406534,  9.93080346,\n",
       "       15.01618901, 21.06098873, 32.87115732, 27.80927747, 25.91293794,\n",
       "       15.27877362, 30.97489404, 27.81107682, 14.5068157 ,  7.57369946,\n",
       "       28.3348068 , 25.04341153])"
      ]
     },
     "execution_count": 36,
     "metadata": {},
     "output_type": "execute_result"
    }
   ],
   "source": [
    "y_pred = model.predict(X_test)\n",
    "y_pred"
   ]
  },
  {
   "cell_type": "code",
   "execution_count": 37,
   "metadata": {},
   "outputs": [],
   "source": [
    "import matplotlib.pyplot as plt\n",
    "import seaborn as sns\n",
    "%matplotlib inline"
   ]
  },
  {
   "cell_type": "code",
   "execution_count": 38,
   "metadata": {},
   "outputs": [
    {
     "data": {
      "text/plain": [
       "array([22.6, 50. , 23. ,  8.3, 21.2, 19.9, 20.6, 18.7, 16.1, 18.6,  8.8,\n",
       "       17.2, 14.9, 10.5, 50. , 29. , 23. , 33.3, 29.4, 21. , 23.8, 19.1,\n",
       "       20.4, 29.1, 19.3, 23.1, 19.6, 19.4, 38.7, 18.7, 14.6, 20. , 20.5,\n",
       "       20.1, 23.6, 16.8,  5.6, 50. , 14.5, 13.3, 23.9, 20. , 19.8, 13.8,\n",
       "       16.5, 21.6, 20.3, 17. , 11.8, 27.5, 15.6, 23.1, 24.3, 42.8, 15.6,\n",
       "       21.7, 17.1, 17.2, 15. , 21.7, 18.6, 21. , 33.1, 31.5, 20.1, 29.8,\n",
       "       15.2, 15. , 27.5, 22.6, 20. , 21.4, 23.5, 31.2, 23.7,  7.4, 48.3,\n",
       "       24.4, 22.6, 18.3, 23.3, 17.1, 27.9, 44.8, 50. , 23. , 21.4, 10.2,\n",
       "       23.3, 23.2, 18.9, 13.4, 21.9, 24.8, 11.9, 24.3, 13.8, 24.7, 14.1,\n",
       "       18.7, 28.1, 19.8, 26.7, 21.7, 22. , 22.9, 10.4, 21.9, 20.6, 26.4,\n",
       "       41.3, 17.2, 27.1, 20.4, 16.5, 24.4,  8.4, 23. ,  9.7, 50. , 30.5,\n",
       "       12.3, 19.4, 21.2, 20.3, 18.8, 33.4, 18.5, 19.6, 33.2, 13.1,  7.5,\n",
       "       13.6, 17.4,  8.4, 35.4, 24. , 13.4, 26.2,  7.2, 13.1, 24.5, 37.2,\n",
       "       25. , 24.1, 16.6, 32.9, 36.2, 11. ,  7.2, 22.8, 28.7])"
      ]
     },
     "execution_count": 38,
     "metadata": {},
     "output_type": "execute_result"
    }
   ],
   "source": [
    "y_test"
   ]
  },
  {
   "cell_type": "code",
   "execution_count": 39,
   "metadata": {},
   "outputs": [
    {
     "data": {
      "text/plain": [
       "Text(0, 0.5, 'Predicted')"
      ]
     },
     "execution_count": 39,
     "metadata": {},
     "output_type": "execute_result"
    },
    {
     "data": {
      "image/png": "[encoded data removed]",
      "text/plain": [
       "<Figure size 432x288 with 1 Axes>"
      ]
     },
     "metadata": {
      "needs_background": "light"
     },
     "output_type": "display_data"
    }
   ],
   "source": [
    "plt.scatter(y_test, y_pred, edgecolors=(0, 0, 0))\n",
    "plt.plot([y_test.min(), y_test.max()], [y_test.min(), y_test.max()], 'k--', lw=4)\n",
    "plt.xlabel('Measured')\n",
    "plt.ylabel('Predicted')"
   ]
  },
  {
   "cell_type": "markdown",
   "metadata": {},
   "source": [
    "#### 새로운 모형 생성 - 회귀나무모형"
   ]
  },
  {
   "cell_type": "code",
   "execution_count": 40,
   "metadata": {},
   "outputs": [
    {
     "data": {
      "text/plain": [
       "0.6835179161458892"
      ]
     },
     "execution_count": 40,
     "metadata": {},
     "output_type": "execute_result"
    }
   ],
   "source": [
    "from sklearn.tree import DecisionTreeRegressor\n",
    "\n",
    "model = DecisionTreeRegressor(random_state=0)\n",
    "model.fit(X_train, y_train)\n",
    "model.score(X_test, y_test)"
   ]
  },
  {
   "cell_type": "markdown",
   "metadata": {},
   "source": [
    "## Clustering"
   ]
  },
  {
   "cell_type": "markdown",
   "metadata": {},
   "source": [
    "#### 데이터 준비"
   ]
  },
  {
   "cell_type": "code",
   "execution_count": 41,
   "metadata": {},
   "outputs": [
    {
     "data": {
      "text/html": [
       "<div>\n",
       "<style scoped>\n",
       "    .dataframe tbody tr th:only-of-type {\n",
       "        vertical-align: middle;\n",
       "    }\n",
       "\n",
       "    .dataframe tbody tr th {\n",
       "        vertical-align: top;\n",
       "    }\n",
       "\n",
       "    .dataframe thead th {\n",
       "        text-align: right;\n",
       "    }\n",
       "</style>\n",
       "<table border=\"1\" class=\"dataframe\">\n",
       "  <thead>\n",
       "    <tr style=\"text-align: right;\">\n",
       "      <th></th>\n",
       "      <th>Pclass</th>\n",
       "      <th>Sex</th>\n",
       "      <th>Age</th>\n",
       "      <th>SibSp</th>\n",
       "      <th>Parch</th>\n",
       "      <th>Fare</th>\n",
       "    </tr>\n",
       "  </thead>\n",
       "  <tbody>\n",
       "    <tr>\n",
       "      <th>0</th>\n",
       "      <td>0.826913</td>\n",
       "      <td>0.737281</td>\n",
       "      <td>-5.921480e-01</td>\n",
       "      <td>0.432550</td>\n",
       "      <td>-0.473408</td>\n",
       "      <td>-0.502163</td>\n",
       "    </tr>\n",
       "    <tr>\n",
       "      <th>1</th>\n",
       "      <td>-1.565228</td>\n",
       "      <td>-1.354813</td>\n",
       "      <td>6.384304e-01</td>\n",
       "      <td>0.432550</td>\n",
       "      <td>-0.473408</td>\n",
       "      <td>0.786404</td>\n",
       "    </tr>\n",
       "    <tr>\n",
       "      <th>2</th>\n",
       "      <td>0.826913</td>\n",
       "      <td>-1.354813</td>\n",
       "      <td>-2.845034e-01</td>\n",
       "      <td>-0.474279</td>\n",
       "      <td>-0.473408</td>\n",
       "      <td>-0.488580</td>\n",
       "    </tr>\n",
       "    <tr>\n",
       "      <th>3</th>\n",
       "      <td>-1.565228</td>\n",
       "      <td>-1.354813</td>\n",
       "      <td>4.076970e-01</td>\n",
       "      <td>0.432550</td>\n",
       "      <td>-0.473408</td>\n",
       "      <td>0.420494</td>\n",
       "    </tr>\n",
       "    <tr>\n",
       "      <th>4</th>\n",
       "      <td>0.826913</td>\n",
       "      <td>0.737281</td>\n",
       "      <td>4.076970e-01</td>\n",
       "      <td>-0.474279</td>\n",
       "      <td>-0.473408</td>\n",
       "      <td>-0.486064</td>\n",
       "    </tr>\n",
       "    <tr>\n",
       "      <th>...</th>\n",
       "      <td>...</td>\n",
       "      <td>...</td>\n",
       "      <td>...</td>\n",
       "      <td>...</td>\n",
       "      <td>...</td>\n",
       "      <td>...</td>\n",
       "    </tr>\n",
       "    <tr>\n",
       "      <th>886</th>\n",
       "      <td>-0.369158</td>\n",
       "      <td>0.737281</td>\n",
       "      <td>-2.075923e-01</td>\n",
       "      <td>-0.474279</td>\n",
       "      <td>-0.473408</td>\n",
       "      <td>-0.386454</td>\n",
       "    </tr>\n",
       "    <tr>\n",
       "      <th>887</th>\n",
       "      <td>-1.565228</td>\n",
       "      <td>-1.354813</td>\n",
       "      <td>-8.228815e-01</td>\n",
       "      <td>-0.474279</td>\n",
       "      <td>-0.473408</td>\n",
       "      <td>-0.044356</td>\n",
       "    </tr>\n",
       "    <tr>\n",
       "      <th>888</th>\n",
       "      <td>0.826913</td>\n",
       "      <td>-1.354813</td>\n",
       "      <td>4.371893e-15</td>\n",
       "      <td>0.432550</td>\n",
       "      <td>2.007806</td>\n",
       "      <td>-0.176164</td>\n",
       "    </tr>\n",
       "    <tr>\n",
       "      <th>889</th>\n",
       "      <td>-1.565228</td>\n",
       "      <td>0.737281</td>\n",
       "      <td>-2.845034e-01</td>\n",
       "      <td>-0.474279</td>\n",
       "      <td>-0.473408</td>\n",
       "      <td>-0.044356</td>\n",
       "    </tr>\n",
       "    <tr>\n",
       "      <th>890</th>\n",
       "      <td>0.826913</td>\n",
       "      <td>0.737281</td>\n",
       "      <td>1.769635e-01</td>\n",
       "      <td>-0.474279</td>\n",
       "      <td>-0.473408</td>\n",
       "      <td>-0.492101</td>\n",
       "    </tr>\n",
       "  </tbody>\n",
       "</table>\n",
       "<p>891 rows × 6 columns</p>\n",
       "</div>"
      ],
      "text/plain": [
       "       Pclass       Sex           Age     SibSp     Parch      Fare\n",
       "0    0.826913  0.737281 -5.921480e-01  0.432550 -0.473408 -0.502163\n",
       "1   -1.565228 -1.354813  6.384304e-01  0.432550 -0.473408  0.786404\n",
       "2    0.826913 -1.354813 -2.845034e-01 -0.474279 -0.473408 -0.488580\n",
       "3   -1.565228 -1.354813  4.076970e-01  0.432550 -0.473408  0.420494\n",
       "4    0.826913  0.737281  4.076970e-01 -0.474279 -0.473408 -0.486064\n",
       "..        ...       ...           ...       ...       ...       ...\n",
       "886 -0.369158  0.737281 -2.075923e-01 -0.474279 -0.473408 -0.386454\n",
       "887 -1.565228 -1.354813 -8.228815e-01 -0.474279 -0.473408 -0.044356\n",
       "888  0.826913 -1.354813  4.371893e-15  0.432550  2.007806 -0.176164\n",
       "889 -1.565228  0.737281 -2.845034e-01 -0.474279 -0.473408 -0.044356\n",
       "890  0.826913  0.737281  1.769635e-01 -0.474279 -0.473408 -0.492101\n",
       "\n",
       "[891 rows x 6 columns]"
      ]
     },
     "execution_count": 41,
     "metadata": {},
     "output_type": "execute_result"
    }
   ],
   "source": [
    "import numpy as np\n",
    "\n",
    "# 데이터 표준화(또는 정규화)\n",
    "# K-mean 알고리즘을 사용하기 앞서 모든 features의 scale을 맞추기위해 정규화 진행 \n",
    "\n",
    "X = X_titanic.apply(lambda x: (x - x.mean()) / x.std(), axis=0)\n",
    "X"
   ]
  },
  {
   "cell_type": "markdown",
   "metadata": {},
   "source": [
    "#### 군집 분석 - Kmeans\n",
    "<img src=\"https://t1.daumcdn.net/cfile/tistory/22446C4E57FE2FC611\" width=700 height=500>"
   ]
  },
  {
   "cell_type": "code",
   "execution_count": 42,
   "metadata": {},
   "outputs": [
    {
     "data": {
      "text/plain": [
       "KMeans(n_clusters=3)"
      ]
     },
     "execution_count": 42,
     "metadata": {},
     "output_type": "execute_result"
    }
   ],
   "source": [
    "from sklearn.cluster import KMeans\n",
    "\n",
    "kmeans = KMeans(n_clusters=3) # 군집수 결정\n",
    "kmeans.fit(X) # 군집분석 실행"
   ]
  },
  {
   "cell_type": "code",
   "execution_count": 43,
   "metadata": {},
   "outputs": [
    {
     "data": {
      "text/plain": [
       "array([0, 1, 0, 1, 0, 0, 1, 2, 2, 0, 2, 1, 0, 2, 0, 1, 2, 0, 0, 0, 0, 0,\n",
       "       0, 1, 2, 2, 0, 2, 0, 0, 1, 1, 0, 1, 1, 1, 0, 0, 0, 0, 0, 0, 0, 2,\n",
       "       0, 0, 0, 0, 0, 0, 2, 0, 1, 0, 1, 1, 0, 0, 2, 2, 0, 1, 1, 2, 1, 0,\n",
       "       0, 0, 2, 0, 0, 2, 0, 0, 0, 0, 0, 0, 2, 0, 0, 0, 0, 1, 0, 2, 2, 0,\n",
       "       2, 0, 0, 0, 1, 2, 0, 0, 1, 1, 1, 0, 0, 0, 1, 0, 0, 0, 0, 0, 0, 0,\n",
       "       1, 0, 0, 0, 0, 0, 0, 0, 1, 2, 0, 0, 0, 0, 1, 0, 0, 0, 2, 0, 0, 0,\n",
       "       0, 0, 0, 0, 2, 1, 0, 1, 2, 0, 0, 0, 0, 0, 0, 2, 0, 0, 0, 1, 0, 0,\n",
       "       0, 1, 0, 0, 0, 2, 0, 1, 0, 0, 2, 2, 1, 2, 1, 0, 1, 2, 2, 0, 1, 0,\n",
       "       2, 1, 0, 0, 2, 0, 2, 2, 2, 1, 0, 1, 0, 0, 0, 0, 0, 2, 1, 1, 0, 0,\n",
       "       0, 0, 0, 2, 0, 0, 0, 2, 0, 0, 0, 1, 0, 0, 0, 0, 0, 1, 0, 0, 1, 0,\n",
       "       0, 0, 0, 0, 1, 0, 0, 0, 0, 2, 1, 0, 1, 2, 0, 0, 0, 2, 0, 0, 0, 0,\n",
       "       0, 0, 0, 1, 0, 2, 1, 1, 0, 2, 1, 0, 2, 2, 1, 1, 1, 1, 0, 2, 1, 1,\n",
       "       0, 0, 2, 0, 1, 1, 1, 0, 1, 1, 0, 1, 0, 0, 2, 2, 0, 0, 0, 0, 1, 0,\n",
       "       0, 0, 0, 0, 1, 1, 0, 0, 0, 1, 0, 2, 1, 1, 0, 0, 0, 0, 0, 2, 1, 1,\n",
       "       0, 1, 1, 2, 2, 0, 1, 0, 0, 1, 1, 1, 0, 0, 0, 2, 2, 1, 0, 0, 2, 1,\n",
       "       0, 1, 1, 0, 1, 0, 1, 1, 0, 1, 2, 2, 0, 0, 0, 0, 1, 0, 2, 0, 0, 1,\n",
       "       0, 0, 0, 0, 1, 0, 0, 0, 2, 0, 0, 0, 0, 0, 1, 0, 0, 1, 1, 0, 0, 1,\n",
       "       2, 1, 0, 1, 0, 0, 1, 2, 0, 1, 0, 0, 2, 0, 0, 0, 1, 0, 0, 1, 2, 0,\n",
       "       0, 0, 0, 0, 0, 0, 0, 0, 0, 0, 0, 2, 0, 2, 0, 0, 1, 0, 0, 0, 2, 2,\n",
       "       0, 2, 0, 0, 0, 2, 0, 0, 0, 0, 0, 0, 1, 0, 1, 0, 1, 2, 2, 2, 1, 0,\n",
       "       1, 0, 0, 0, 0, 2, 2, 1, 2, 1, 2, 0, 1, 1, 0, 0, 1, 1, 1, 0, 1, 0,\n",
       "       1, 0, 0, 0, 0, 1, 0, 2, 0, 0, 2, 0, 0, 1, 0, 0, 0, 2, 2, 0, 0, 0,\n",
       "       1, 2, 1, 1, 0, 0, 0, 0, 1, 1, 0, 0, 1, 0, 2, 0, 0, 0, 0, 0, 1, 1,\n",
       "       2, 1, 0, 0, 0, 0, 1, 1, 0, 1, 0, 0, 1, 0, 1, 0, 0, 1, 0, 0, 1, 1,\n",
       "       0, 2, 2, 0, 0, 2, 0, 2, 1, 1, 0, 2, 1, 2, 2, 0, 1, 1, 0, 0, 0, 2,\n",
       "       1, 0, 0, 0, 0, 1, 1, 1, 1, 0, 0, 0, 0, 0, 0, 0, 0, 2, 0, 0, 1, 1,\n",
       "       1, 0, 0, 0, 0, 1, 0, 0, 2, 1, 1, 1, 0, 2, 0, 1, 0, 0, 0, 1, 0, 2,\n",
       "       0, 0, 0, 0, 0, 1, 2, 0, 1, 0, 1, 0, 0, 1, 2, 1, 2, 0, 0, 0, 0, 2,\n",
       "       0, 0, 2, 0, 0, 1, 0, 0, 0, 1, 1, 1, 0, 0, 1, 0, 1, 1, 2, 0, 0, 0,\n",
       "       2, 0, 0, 1, 2, 0, 2, 1, 0, 1, 0, 0, 0, 2, 0, 0, 0, 0, 0, 2, 0, 1,\n",
       "       1, 0, 1, 0, 0, 1, 0, 0, 0, 1, 1, 1, 1, 0, 0, 0, 0, 0, 2, 1, 0, 1,\n",
       "       0, 2, 1, 2, 2, 0, 0, 1, 1, 2, 0, 0, 1, 0, 0, 0, 1, 0, 1, 1, 0, 0,\n",
       "       0, 0, 1, 1, 1, 0, 1, 1, 1, 0, 0, 0, 1, 0, 0, 0, 2, 0, 0, 0, 1, 0,\n",
       "       2, 0, 0, 0, 1, 0, 0, 0, 0, 0, 2, 1, 0, 0, 1, 1, 2, 0, 0, 1, 0, 0,\n",
       "       1, 0, 2, 0, 0, 0, 2, 2, 0, 0, 0, 1, 0, 0, 0, 1, 0, 1, 1, 0, 0, 0,\n",
       "       0, 0, 1, 0, 2, 0, 0, 0, 0, 1, 0, 1, 1, 2, 0, 0, 0, 2, 2, 1, 0, 0,\n",
       "       2, 1, 0, 0, 1, 0, 0, 2, 0, 2, 2, 0, 0, 0, 1, 0, 0, 1, 0, 0, 0, 2,\n",
       "       0, 1, 0, 0, 0, 2, 1, 0, 1, 0, 2, 0, 0, 2, 0, 1, 0, 2, 0, 0, 0, 1,\n",
       "       0, 0, 0, 1, 0, 0, 1, 0, 0, 0, 2, 0, 0, 1, 2, 0, 2, 1, 1, 0, 1, 1,\n",
       "       2, 0, 0, 0, 1, 2, 0, 1, 0, 1, 0, 2, 0, 1, 1, 0, 0, 0, 0, 0, 0, 1,\n",
       "       0, 0, 0, 0, 0, 2, 0, 1, 2, 1, 0])"
      ]
     },
     "execution_count": 43,
     "metadata": {},
     "output_type": "execute_result"
    }
   ],
   "source": [
    "# 군집분석 결과보기\n",
    "kmeans.labels_ "
   ]
  },
  {
   "cell_type": "code",
   "execution_count": 44,
   "metadata": {},
   "outputs": [
    {
     "name": "stderr",
     "output_type": "stream",
     "text": [
      "C:\\Users\\msi\\anaconda3\\lib\\site-packages\\seaborn\\_decorators.py:43: FutureWarning: Pass the following variables as keyword args: x, y. From version 0.12, the only valid positional argument will be `data`, and passing other arguments without an explicit keyword will result in an error or misinterpretation.\n",
      "  FutureWarning\n",
      "C:\\Users\\msi\\anaconda3\\lib\\site-packages\\seaborn\\_decorators.py:43: FutureWarning: Pass the following variables as keyword args: x, y. From version 0.12, the only valid positional argument will be `data`, and passing other arguments without an explicit keyword will result in an error or misinterpretation.\n",
      "  FutureWarning\n",
      "C:\\Users\\msi\\anaconda3\\lib\\site-packages\\seaborn\\_decorators.py:43: FutureWarning: Pass the following variables as keyword args: x, y. From version 0.12, the only valid positional argument will be `data`, and passing other arguments without an explicit keyword will result in an error or misinterpretation.\n",
      "  FutureWarning\n"
     ]
    },
    {
     "data": {
      "image/png": "[encoded data removed]",
      "text/plain": [
       "<Figure size 576x432 with 3 Axes>"
      ]
     },
     "metadata": {
      "needs_background": "light"
     },
     "output_type": "display_data"
    }
   ],
   "source": [
    "# 군집분석 결과해석\n",
    "fig, ax = plt.subplots(kmeans.n_clusters, 1, figsize=(8,6), sharex=True, sharey=True)\n",
    "ax = ax.ravel() # 다차원을 1차원으로 변환하는 메서드 \n",
    "plt.tight_layout() # 자동으로 레이아웃 조정\n",
    "\n",
    "for i in range(kmeans.n_clusters):\n",
    "    ax[i].set_title('cluster %d' % i)\n",
    "    sns.barplot(np.arange(X.columns.size), kmeans.cluster_centers_[i], ax=ax[i])\n",
    "    ax[i].set_xticks(np.arange(X.columns.size)) # x 축 번호 지정 xticklabels 를 달기전에 꼭 번저 해야하는 코드.\n",
    "    ax[i].set_xticklabels(X.columns, rotation=90) # x 축 번호에 titanic 열 이름으로 변경 "
   ]
  },
  {
   "cell_type": "code",
   "execution_count": 45,
   "metadata": {},
   "outputs": [
    {
     "data": {
      "text/plain": [
       "array([[ 0.55195412,  0.24431645, -0.08680265, -0.28665898, -0.40210849,\n",
       "        -0.40699022],\n",
       "       [-1.42883385, -0.17112805,  0.7731847 , -0.14813848, -0.1686973 ,\n",
       "         0.80782695],\n",
       "       [ 0.26705011, -0.62777298, -0.92890161,  1.3007912 ,  1.76144409,\n",
       "         0.20045637]])"
      ]
     },
     "execution_count": 45,
     "metadata": {},
     "output_type": "execute_result"
    }
   ],
   "source": [
    "kmeans.cluster_centers_"
   ]
  },
  {
   "cell_type": "code",
   "execution_count": 46,
   "metadata": {},
   "outputs": [
    {
     "name": "stderr",
     "output_type": "stream",
     "text": [
      "C:\\Users\\msi\\anaconda3\\lib\\site-packages\\seaborn\\_decorators.py:43: FutureWarning: Pass the following variables as keyword args: x, y. From version 0.12, the only valid positional argument will be `data`, and passing other arguments without an explicit keyword will result in an error or misinterpretation.\n",
      "  FutureWarning\n"
     ]
    },
    {
     "data": {
      "image/png": "[encoded data removed]",
      "text/plain": [
       "<Figure size 432x288 with 1 Axes>"
      ]
     },
     "metadata": {
      "needs_background": "light"
     },
     "output_type": "display_data"
    }
   ],
   "source": [
    "sns.barplot(np.arange(X.columns.size), kmeans.cluster_centers_[0]);"
   ]
  },
  {
   "cell_type": "code",
   "execution_count": 47,
   "metadata": {},
   "outputs": [
    {
     "data": {
      "image/png": "[encoded data removed]",
      "text/plain": [
       "<Figure size 576x432 with 3 Axes>"
      ]
     },
     "metadata": {
      "needs_background": "light"
     },
     "output_type": "display_data"
    }
   ],
   "source": [
    "fig, ax = plt.subplots(kmeans.n_clusters, 1, figsize=(8,6), sharex=True, sharey=True)"
   ]
  },
  {
   "cell_type": "code",
   "execution_count": 48,
   "metadata": {},
   "outputs": [
    {
     "data": {
      "text/plain": [
       "array([<AxesSubplot:>, <AxesSubplot:>, <AxesSubplot:>], dtype=object)"
      ]
     },
     "execution_count": 48,
     "metadata": {},
     "output_type": "execute_result"
    }
   ],
   "source": [
    "ax"
   ]
  },
  {
   "cell_type": "code",
   "execution_count": 49,
   "metadata": {},
   "outputs": [],
   "source": [
    "ax = ax.ravel()"
   ]
  },
  {
   "cell_type": "code",
   "execution_count": 50,
   "metadata": {},
   "outputs": [
    {
     "data": {
      "text/plain": [
       "array([<AxesSubplot:>, <AxesSubplot:>, <AxesSubplot:>], dtype=object)"
      ]
     },
     "execution_count": 50,
     "metadata": {},
     "output_type": "execute_result"
    }
   ],
   "source": [
    "ax"
   ]
  },
  {
   "cell_type": "code",
   "execution_count": 51,
   "metadata": {},
   "outputs": [
    {
     "name": "stderr",
     "output_type": "stream",
     "text": [
      "C:\\Users\\msi\\anaconda3\\lib\\site-packages\\seaborn\\_decorators.py:43: FutureWarning: Pass the following variables as keyword args: x, y. From version 0.12, the only valid positional argument will be `data`, and passing other arguments without an explicit keyword will result in an error or misinterpretation.\n",
      "  FutureWarning\n",
      "C:\\Users\\msi\\anaconda3\\lib\\site-packages\\seaborn\\_decorators.py:43: FutureWarning: Pass the following variables as keyword args: x, y. From version 0.12, the only valid positional argument will be `data`, and passing other arguments without an explicit keyword will result in an error or misinterpretation.\n",
      "  FutureWarning\n",
      "C:\\Users\\msi\\anaconda3\\lib\\site-packages\\seaborn\\_decorators.py:43: FutureWarning: Pass the following variables as keyword args: x, y. From version 0.12, the only valid positional argument will be `data`, and passing other arguments without an explicit keyword will result in an error or misinterpretation.\n",
      "  FutureWarning\n"
     ]
    },
    {
     "data": {
      "image/png": "[encoded data removed]",
      "text/plain": [
       "<Figure size 576x432 with 3 Axes>"
      ]
     },
     "metadata": {
      "needs_background": "light"
     },
     "output_type": "display_data"
    }
   ],
   "source": [
    "# 군집분석 결과해석\n",
    "fig, ax = plt.subplots(kmeans.n_clusters, 1, figsize=(8,6), sharex=True, sharey=True)\n",
    "plt.tight_layout() # 자동으로 레이아웃 조정\n",
    "\n",
    "for i in range(kmeans.n_clusters):\n",
    "    ax[i].set_title('cluster %d' % i)\n",
    "    sns.barplot(np.arange(X.columns.size), kmeans.cluster_centers_[i], ax=ax[i])\n",
    "    ax[i].set_xticks(np.arange(X.columns.size)) # x 축 번호 지정 xticklabels 를 달기전에 꼭 번저 해야하는 코드.\n",
    "    ax[i].set_xticklabels(X.columns, rotation=90) # x 축 번호에 titanic 열 이름으로 변경 "
   ]
  },
  {
   "cell_type": "markdown",
   "metadata": {},
   "source": [
    "<font color='tomato'><font color=\"#CC3D3D\"><p>\n",
    "# End"
   ]
  }
 ],
 "metadata": {
  "kernelspec": {
   "display_name": "Python 3",
   "language": "python",
   "name": "python3"
  },
  "language_info": {
   "codemirror_mode": {
    "name": "ipython",
    "version": 3
   },
   "file_extension": ".py",
   "mimetype": "text/x-python",
   "name": "python",
   "nbconvert_exporter": "python",
   "pygments_lexer": "ipython3",
   "version": "3.7.9"
  }
 },
 "nbformat": 4,
 "nbformat_minor": 4
}
